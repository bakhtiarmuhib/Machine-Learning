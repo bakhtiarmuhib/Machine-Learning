{
 "cells": [
  {
   "cell_type": "code",
   "execution_count": 1,
   "id": "66e369cc",
   "metadata": {},
   "outputs": [],
   "source": [
    "import numpy as np \n",
    "import matplotlib.pyplot as plt\n",
    "from matplotlib import style"
   ]
  },
  {
   "cell_type": "code",
   "execution_count": 2,
   "id": "555facd9",
   "metadata": {},
   "outputs": [],
   "source": [
    "def prdict(x,w,b):\n",
    "    m = len(x)\n",
    "    result = np.zeros(m)\n",
    "    for i in range(m):\n",
    "        result[i] = w*x[i]+b\n",
    "    return result"
   ]
  },
  {
   "cell_type": "code",
   "execution_count": 3,
   "id": "7f815908",
   "metadata": {},
   "outputs": [],
   "source": [
    "def cost_function(x, y, w, b):\n",
    "    result =prdict(x,w,b)\n",
    "    cost = ((result-y)**2).sum()\n",
    "    return (cost/(2*len(x)))\n",
    "    "
   ]
  },
  {
   "cell_type": "code",
   "execution_count": 4,
   "id": "636dfeb7",
   "metadata": {},
   "outputs": [],
   "source": [
    "def gradient_descent(x,y,w,b):\n",
    "    m = len(x)\n",
    "    grad_w = 0\n",
    "    grad_b = 0\n",
    "    for i in range(m):\n",
    "        predict = x[i]*w+b\n",
    "        grad_w += (predict-y[i])*x[i]\n",
    "        grad_b += (predict-y[i])\n",
    "        \n",
    "    return grad_w/m,grad_b/m\n",
    "    "
   ]
  },
  {
   "cell_type": "code",
   "execution_count": 5,
   "id": "fe3372a4",
   "metadata": {},
   "outputs": [],
   "source": [
    "x_train = np.array([1.0, 2.0,3.0])\n",
    "y_train = np.array([300.0, 500.0,700])"
   ]
  },
  {
   "cell_type": "code",
   "execution_count": 6,
   "id": "37c438fd",
   "metadata": {},
   "outputs": [
    {
     "name": "stdout",
     "output_type": "stream",
     "text": [
      "[1.63333333 2.76666667 3.9       ]\n",
      "[293.874324   497.0213095  700.16829499]\n",
      "[295.56093105 499.04098732 702.5210436 ]\n",
      "[296.06751511 499.15606787 702.24462062]\n",
      "[296.51292415 499.25167669 701.99042924]\n",
      "[296.90787143 499.3364321  701.76499278]\n",
      "[297.25808682 499.411588   701.56508918]\n",
      "[297.5686367  499.47823171 701.38782672]\n",
      "[297.84401362 499.53732734 701.23064106]\n",
      "[298.08820127 499.58972978 701.0912583 ]\n"
     ]
    }
   ],
   "source": [
    "w = 0\n",
    "b = 0\n",
    "alpha = .001\n",
    "for i in range(10000):\n",
    "    grad_w,grad_b = gradient_descent(x_train,y_train,w,b)\n",
    "    w = w - alpha*grad_w\n",
    "    b = b - alpha*grad_b\n",
    "    if i % 1000 == 0:\n",
    "        temp_f_wb = prdict(x_train,w,b)\n",
    "        print(temp_f_wb)\n",
    "\n"
   ]
  },
  {
   "cell_type": "code",
   "execution_count": null,
   "id": "474c14db",
   "metadata": {},
   "outputs": [],
   "source": []
  },
  {
   "cell_type": "code",
   "execution_count": null,
   "id": "c79af52d",
   "metadata": {},
   "outputs": [],
   "source": []
  }
 ],
 "metadata": {
  "kernelspec": {
   "display_name": "Python 3 (ipykernel)",
   "language": "python",
   "name": "python3"
  },
  "language_info": {
   "codemirror_mode": {
    "name": "ipython",
    "version": 3
   },
   "file_extension": ".py",
   "mimetype": "text/x-python",
   "name": "python",
   "nbconvert_exporter": "python",
   "pygments_lexer": "ipython3",
   "version": "3.9.12"
  }
 },
 "nbformat": 4,
 "nbformat_minor": 5
}
