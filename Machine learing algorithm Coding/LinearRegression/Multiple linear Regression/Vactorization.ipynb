{
 "cells": [
  {
   "cell_type": "code",
   "execution_count": 2,
   "id": "76ae749f",
   "metadata": {},
   "outputs": [],
   "source": [
    "import numpy as np"
   ]
  },
  {
   "cell_type": "code",
   "execution_count": 3,
   "id": "b771ad02",
   "metadata": {},
   "outputs": [
    {
     "name": "stdout",
     "output_type": "stream",
     "text": [
      "[1 4 9]\n"
     ]
    }
   ],
   "source": [
    "a = np.array([1,2,3])\n",
    "b = np.array([1,2,3])\n",
    "print(a*b)"
   ]
  },
  {
   "cell_type": "code",
   "execution_count": 4,
   "id": "5543f126",
   "metadata": {},
   "outputs": [
    {
     "name": "stdout",
     "output_type": "stream",
     "text": [
      "14\n"
     ]
    }
   ],
   "source": [
    "print(a@b)"
   ]
  },
  {
   "cell_type": "code",
   "execution_count": 5,
   "id": "de89e957",
   "metadata": {},
   "outputs": [
    {
     "name": "stdout",
     "output_type": "stream",
     "text": [
      "[[14]\n",
      " [14]\n",
      " [14]]\n"
     ]
    }
   ],
   "source": [
    "w = np.array([[1,2,3]])\n",
    "features = np.array([[1,2,3],\n",
    "                    [1,2,3],\n",
    "                    [1,2,3]])\n",
    "print(features@w.transpose())"
   ]
  },
  {
   "cell_type": "markdown",
   "id": "8425d4b1",
   "metadata": {},
   "source": [
    "Numpy data creation take tupple"
   ]
  },
  {
   "cell_type": "code",
   "execution_count": 7,
   "id": "0c802934",
   "metadata": {},
   "outputs": [],
   "source": [
    "a = np.zeros(4)\n",
    "a = np.zeros((4,))\n",
    "a = np.random.random_sample(4)"
   ]
  },
  {
   "cell_type": "markdown",
   "id": "9a990b25",
   "metadata": {},
   "source": [
    "Numpy data creation cannot take tupple"
   ]
  },
  {
   "cell_type": "code",
   "execution_count": 8,
   "id": "15b5ef6a",
   "metadata": {},
   "outputs": [],
   "source": [
    "a = np.arange(4.)\n",
    "a = np.random.rand(4)"
   ]
  },
  {
   "cell_type": "code",
   "execution_count": null,
   "id": "36207a18",
   "metadata": {},
   "outputs": [],
   "source": []
  }
 ],
 "metadata": {
  "kernelspec": {
   "display_name": "Python 3 (ipykernel)",
   "language": "python",
   "name": "python3"
  },
  "language_info": {
   "codemirror_mode": {
    "name": "ipython",
    "version": 3
   },
   "file_extension": ".py",
   "mimetype": "text/x-python",
   "name": "python",
   "nbconvert_exporter": "python",
   "pygments_lexer": "ipython3",
   "version": "3.9.12"
  }
 },
 "nbformat": 4,
 "nbformat_minor": 5
}
