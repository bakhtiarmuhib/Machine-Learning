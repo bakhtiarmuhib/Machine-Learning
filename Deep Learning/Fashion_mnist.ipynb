{
  "nbformat": 4,
  "nbformat_minor": 0,
  "metadata": {
    "colab": {
      "name": "Fashion_mnist.ipynb",
      "provenance": []
    },
    "kernelspec": {
      "name": "python3",
      "display_name": "Python 3"
    }
  },
  "cells": [
    {
      "cell_type": "markdown",
      "metadata": {
        "id": "FTQozFMHf1EQ"
      },
      "source": [
        "Importing section"
      ]
    },
    {
      "cell_type": "code",
      "metadata": {
        "id": "SKofPuo5fxxA"
      },
      "source": [
        "import tensorflow as tf \n",
        "import numpy as np\n",
        "from tensorflow import keras\n",
        "import matplotlib.pyplot as plt"
      ],
      "execution_count": 36,
      "outputs": []
    },
    {
      "cell_type": "markdown",
      "metadata": {
        "id": "IBv_FA_8fzfP"
      },
      "source": [
        "**Data Load Section **\n"
      ]
    },
    {
      "cell_type": "code",
      "metadata": {
        "id": "zFliDXwBgSY3"
      },
      "source": [
        "fashion_mnist = keras.datasets.fashion_mnist\n",
        "(train_images , train_labels), (test_images, test_labels) = fashion_mnist.load_data()"
      ],
      "execution_count": 37,
      "outputs": []
    },
    {
      "cell_type": "code",
      "metadata": {
        "id": "WZ8u-V9LmBG7",
        "colab": {
          "base_uri": "https://localhost:8080/",
          "height": 282
        },
        "outputId": "fd53066c-070e-40f3-e14a-aa6443048f0b"
      },
      "source": [
        "plt.imshow(train_images[35])"
      ],
      "execution_count": 38,
      "outputs": [
        {
          "output_type": "execute_result",
          "data": {
            "text/plain": [
              "<matplotlib.image.AxesImage at 0x7fc815a5a3c8>"
            ]
          },
          "metadata": {
            "tags": []
          },
          "execution_count": 38
        },
        {
          "output_type": "display_data",
          "data": {
            "image/png": "[encoded data removed]",
            "text/plain": [
              "<Figure size 432x288 with 1 Axes>"
            ]
          },
          "metadata": {
            "tags": [],
            "needs_background": "light"
          }
        }
      ]
    },
    {
      "cell_type": "code",
      "metadata": {
        "id": "Ob7-e02lmKMm",
        "colab": {
          "base_uri": "https://localhost:8080/"
        },
        "outputId": "3b59210c-998c-4365-c880-61b448895426"
      },
      "source": [
        "print(train_labels[35])\n",
        "print(train_images.shape)"
      ],
      "execution_count": 39,
      "outputs": [
        {
          "output_type": "stream",
          "text": [
            "8\n",
            "(60000, 28, 28)\n"
          ],
          "name": "stdout"
        }
      ]
    },
    {
      "cell_type": "code",
      "metadata": {
        "id": "cfgRz-Fd2vQf"
      },
      "source": [
        "train_images  = train_images / 255.0\n",
        "test_images = test_images / 255.0"
      ],
      "execution_count": 40,
      "outputs": []
    },
    {
      "cell_type": "markdown",
      "metadata": {
        "id": "CeodHpTxxRNr"
      },
      "source": [
        "**Model Creating section**"
      ]
    },
    {
      "cell_type": "code",
      "metadata": {
        "id": "tanEmzfXnSp6"
      },
      "source": [
        "model = keras.Sequential([\n",
        "    keras.layers.Flatten(input_shape = (28,28)),\n",
        "    keras.layers.Dense(128, activation=tf.nn.relu),\n",
        "    keras.layers.Dense(10, activation=tf.nn.softmax)\n",
        "\n",
        "])"
      ],
      "execution_count": 41,
      "outputs": []
    },
    {
      "cell_type": "code",
      "metadata": {
        "id": "3-3VlFBhpanS"
      },
      "source": [
        "model.compile(optimizer = 'Adam',\n",
        "              loss = \"SparseCategoricalCrossentropy\",\n",
        "              metrics = ['accuracy'])"
      ],
      "execution_count": 42,
      "outputs": []
    },
    {
      "cell_type": "markdown",
      "metadata": {
        "id": "8Kai132r11dF"
      },
      "source": [
        "**Train Section**"
      ]
    },
    {
      "cell_type": "code",
      "metadata": {
        "id": "TPZJPOMmqPu8",
        "colab": {
          "base_uri": "https://localhost:8080/"
        },
        "outputId": "06c88c23-8dcb-44de-a72f-78519a24cf18"
      },
      "source": [
        "model.fit(train_images,train_labels, epochs=5)"
      ],
      "execution_count": 43,
      "outputs": [
        {
          "output_type": "stream",
          "text": [
            "Epoch 1/5\n",
            "1875/1875 [==============================] - 4s 2ms/step - loss: 0.6250 - accuracy: 0.7836\n",
            "Epoch 2/5\n",
            "1875/1875 [==============================] - 4s 2ms/step - loss: 0.3861 - accuracy: 0.8615\n",
            "Epoch 3/5\n",
            "1875/1875 [==============================] - 4s 2ms/step - loss: 0.3397 - accuracy: 0.8758\n",
            "Epoch 4/5\n",
            "1875/1875 [==============================] - 4s 2ms/step - loss: 0.3112 - accuracy: 0.8871\n",
            "Epoch 5/5\n",
            "1875/1875 [==============================] - 4s 2ms/step - loss: 0.2883 - accuracy: 0.8942\n"
          ],
          "name": "stdout"
        },
        {
          "output_type": "execute_result",
          "data": {
            "text/plain": [
              "<tensorflow.python.keras.callbacks.History at 0x7fc815a0e9e8>"
            ]
          },
          "metadata": {
            "tags": []
          },
          "execution_count": 43
        }
      ]
    },
    {
      "cell_type": "markdown",
      "metadata": {
        "id": "Md28HTLX3F27"
      },
      "source": [
        "**Model Testing**"
      ]
    },
    {
      "cell_type": "code",
      "metadata": {
        "id": "yc3IkEB13K1y",
        "colab": {
          "base_uri": "https://localhost:8080/"
        },
        "outputId": "18a5d8d9-8134-4ff0-8058-c4b4d30124bb"
      },
      "source": [
        "model.evaluate(test_images, test_labels)"
      ],
      "execution_count": 44,
      "outputs": [
        {
          "output_type": "stream",
          "text": [
            "313/313 [==============================] - 0s 1ms/step - loss: 0.3565 - accuracy: 0.8720\n"
          ],
          "name": "stdout"
        },
        {
          "output_type": "execute_result",
          "data": {
            "text/plain": [
              "[0.35652056336402893, 0.871999979019165]"
            ]
          },
          "metadata": {
            "tags": []
          },
          "execution_count": 44
        }
      ]
    },
    {
      "cell_type": "code",
      "metadata": {
        "id": "fBDH2SgA3xJo",
        "colab": {
          "base_uri": "https://localhost:8080/"
        },
        "outputId": "6d9decde-42a0-4daa-aae6-be1a2a839161"
      },
      "source": [
        "classifications = model.predict(test_images)\n",
        "print(classifications[0])"
      ],
      "execution_count": 45,
      "outputs": [
        {
          "output_type": "stream",
          "text": [
            "[1.4368439e-04 1.0692977e-07 9.9172155e-07 5.5555223e-08 3.2464357e-07\n",
            " 4.9377736e-03 4.4233620e-05 2.8308919e-02 3.4059703e-06 9.6656042e-01]\n"
          ],
          "name": "stdout"
        }
      ]
    }
  ]
}