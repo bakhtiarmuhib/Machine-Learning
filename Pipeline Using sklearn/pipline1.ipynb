{
 "cells": [
  {
   "cell_type": "code",
   "execution_count": 1,
   "id": "29def235",
   "metadata": {},
   "outputs": [],
   "source": [
    "from sklearn.pipeline import Pipeline\n",
    "from sklearn.preprocessing import StandardScaler\n",
    "from sklearn.linear_model import LogisticRegression\n",
    "from sklearn import set_config"
   ]
  },
  {
   "cell_type": "code",
   "execution_count": 2,
   "id": "378c766f",
   "metadata": {},
   "outputs": [],
   "source": [
    "steps = [('standard_scaller',StandardScaler()),\n",
    "         ('logistic_regression',LogisticRegression())]"
   ]
  },
  {
   "cell_type": "code",
   "execution_count": 3,
   "id": "34983f4d",
   "metadata": {},
   "outputs": [
    {
     "data": {
      "text/plain": [
       "[('standard_scaller', StandardScaler()),\n",
       " ('logistic_regression', LogisticRegression())]"
      ]
     },
     "execution_count": 3,
     "metadata": {},
     "output_type": "execute_result"
    }
   ],
   "source": [
    "steps"
   ]
  },
  {
   "cell_type": "code",
   "execution_count": 4,
   "id": "d9ef4796",
   "metadata": {},
   "outputs": [],
   "source": [
    "pipe = Pipeline(steps)"
   ]
  },
  {
   "cell_type": "code",
   "execution_count": 5,
   "id": "7261602a",
   "metadata": {},
   "outputs": [],
   "source": [
    "set_config(display='diagram')"
   ]
  },
  {
   "cell_type": "code",
   "execution_count": 6,
   "id": "81c7ddbb",
   "metadata": {},
   "outputs": [
    {
     "data": {
      "text/html": [
       "<style>#sk-d64a1fac-c6c6-4af9-b48d-51eb16ccd0f3 {color: black;background-color: white;}#sk-d64a1fac-c6c6-4af9-b48d-51eb16ccd0f3 pre{padding: 0;}#sk-d64a1fac-c6c6-4af9-b48d-51eb16ccd0f3 div.sk-toggleable {background-color: white;}#sk-d64a1fac-c6c6-4af9-b48d-51eb16ccd0f3 label.sk-toggleable__label {cursor: pointer;display: block;width: 100%;margin-bottom: 0;padding: 0.3em;box-sizing: border-box;text-align: center;}#sk-d64a1fac-c6c6-4af9-b48d-51eb16ccd0f3 label.sk-toggleable__label-arrow:before {content: \"▸\";float: left;margin-right: 0.25em;color: #696969;}#sk-d64a1fac-c6c6-4af9-b48d-51eb16ccd0f3 label.sk-toggleable__label-arrow:hover:before {color: black;}#sk-d64a1fac-c6c6-4af9-b48d-51eb16ccd0f3 div.sk-estimator:hover label.sk-toggleable__label-arrow:before {color: black;}#sk-d64a1fac-c6c6-4af9-b48d-51eb16ccd0f3 div.sk-toggleable__content {max-height: 0;max-width: 0;overflow: hidden;text-align: left;background-color: #f0f8ff;}#sk-d64a1fac-c6c6-4af9-b48d-51eb16ccd0f3 div.sk-toggleable__content pre {margin: 0.2em;color: black;border-radius: 0.25em;background-color: #f0f8ff;}#sk-d64a1fac-c6c6-4af9-b48d-51eb16ccd0f3 input.sk-toggleable__control:checked~div.sk-toggleable__content {max-height: 200px;max-width: 100%;overflow: auto;}#sk-d64a1fac-c6c6-4af9-b48d-51eb16ccd0f3 input.sk-toggleable__control:checked~label.sk-toggleable__label-arrow:before {content: \"▾\";}#sk-d64a1fac-c6c6-4af9-b48d-51eb16ccd0f3 div.sk-estimator input.sk-toggleable__control:checked~label.sk-toggleable__label {background-color: #d4ebff;}#sk-d64a1fac-c6c6-4af9-b48d-51eb16ccd0f3 div.sk-label input.sk-toggleable__control:checked~label.sk-toggleable__label {background-color: #d4ebff;}#sk-d64a1fac-c6c6-4af9-b48d-51eb16ccd0f3 input.sk-hidden--visually {border: 0;clip: rect(1px 1px 1px 1px);clip: rect(1px, 1px, 1px, 1px);height: 1px;margin: -1px;overflow: hidden;padding: 0;position: absolute;width: 1px;}#sk-d64a1fac-c6c6-4af9-b48d-51eb16ccd0f3 div.sk-estimator {font-family: monospace;background-color: #f0f8ff;border: 1px dotted black;border-radius: 0.25em;box-sizing: border-box;margin-bottom: 0.5em;}#sk-d64a1fac-c6c6-4af9-b48d-51eb16ccd0f3 div.sk-estimator:hover {background-color: #d4ebff;}#sk-d64a1fac-c6c6-4af9-b48d-51eb16ccd0f3 div.sk-parallel-item::after {content: \"\";width: 100%;border-bottom: 1px solid gray;flex-grow: 1;}#sk-d64a1fac-c6c6-4af9-b48d-51eb16ccd0f3 div.sk-label:hover label.sk-toggleable__label {background-color: #d4ebff;}#sk-d64a1fac-c6c6-4af9-b48d-51eb16ccd0f3 div.sk-serial::before {content: \"\";position: absolute;border-left: 1px solid gray;box-sizing: border-box;top: 2em;bottom: 0;left: 50%;}#sk-d64a1fac-c6c6-4af9-b48d-51eb16ccd0f3 div.sk-serial {display: flex;flex-direction: column;align-items: center;background-color: white;padding-right: 0.2em;padding-left: 0.2em;}#sk-d64a1fac-c6c6-4af9-b48d-51eb16ccd0f3 div.sk-item {z-index: 1;}#sk-d64a1fac-c6c6-4af9-b48d-51eb16ccd0f3 div.sk-parallel {display: flex;align-items: stretch;justify-content: center;background-color: white;}#sk-d64a1fac-c6c6-4af9-b48d-51eb16ccd0f3 div.sk-parallel::before {content: \"\";position: absolute;border-left: 1px solid gray;box-sizing: border-box;top: 2em;bottom: 0;left: 50%;}#sk-d64a1fac-c6c6-4af9-b48d-51eb16ccd0f3 div.sk-parallel-item {display: flex;flex-direction: column;position: relative;background-color: white;}#sk-d64a1fac-c6c6-4af9-b48d-51eb16ccd0f3 div.sk-parallel-item:first-child::after {align-self: flex-end;width: 50%;}#sk-d64a1fac-c6c6-4af9-b48d-51eb16ccd0f3 div.sk-parallel-item:last-child::after {align-self: flex-start;width: 50%;}#sk-d64a1fac-c6c6-4af9-b48d-51eb16ccd0f3 div.sk-parallel-item:only-child::after {width: 0;}#sk-d64a1fac-c6c6-4af9-b48d-51eb16ccd0f3 div.sk-dashed-wrapped {border: 1px dashed gray;margin: 0 0.4em 0.5em 0.4em;box-sizing: border-box;padding-bottom: 0.4em;background-color: white;position: relative;}#sk-d64a1fac-c6c6-4af9-b48d-51eb16ccd0f3 div.sk-label label {font-family: monospace;font-weight: bold;background-color: white;display: inline-block;line-height: 1.2em;}#sk-d64a1fac-c6c6-4af9-b48d-51eb16ccd0f3 div.sk-label-container {position: relative;z-index: 2;text-align: center;}#sk-d64a1fac-c6c6-4af9-b48d-51eb16ccd0f3 div.sk-container {/* jupyter's `normalize.less` sets `[hidden] { display: none; }` but bootstrap.min.css set `[hidden] { display: none !important; }` so we also need the `!important` here to be able to override the default hidden behavior on the sphinx rendered scikit-learn.org. See: https://github.com/scikit-learn/scikit-learn/issues/21755 */display: inline-block !important;position: relative;}#sk-d64a1fac-c6c6-4af9-b48d-51eb16ccd0f3 div.sk-text-repr-fallback {display: none;}</style><div id=\"sk-d64a1fac-c6c6-4af9-b48d-51eb16ccd0f3\" class=\"sk-top-container\"><div class=\"sk-text-repr-fallback\"><pre>Pipeline(steps=[(&#x27;standard_scaller&#x27;, StandardScaler()),\n",
       "                (&#x27;logistic_regression&#x27;, LogisticRegression())])</pre><b>Please rerun this cell to show the HTML repr or trust the notebook.</b></div><div class=\"sk-container\" hidden><div class=\"sk-item sk-dashed-wrapped\"><div class=\"sk-label-container\"><div class=\"sk-label sk-toggleable\"><input class=\"sk-toggleable__control sk-hidden--visually\" id=\"a9f7d626-056a-4770-9168-2c2e2b9de8ac\" type=\"checkbox\" ><label for=\"a9f7d626-056a-4770-9168-2c2e2b9de8ac\" class=\"sk-toggleable__label sk-toggleable__label-arrow\">Pipeline</label><div class=\"sk-toggleable__content\"><pre>Pipeline(steps=[(&#x27;standard_scaller&#x27;, StandardScaler()),\n",
       "                (&#x27;logistic_regression&#x27;, LogisticRegression())])</pre></div></div></div><div class=\"sk-serial\"><div class=\"sk-item\"><div class=\"sk-estimator sk-toggleable\"><input class=\"sk-toggleable__control sk-hidden--visually\" id=\"27483cc1-6433-445b-801f-30d27a82161f\" type=\"checkbox\" ><label for=\"27483cc1-6433-445b-801f-30d27a82161f\" class=\"sk-toggleable__label sk-toggleable__label-arrow\">StandardScaler</label><div class=\"sk-toggleable__content\"><pre>StandardScaler()</pre></div></div></div><div class=\"sk-item\"><div class=\"sk-estimator sk-toggleable\"><input class=\"sk-toggleable__control sk-hidden--visually\" id=\"77d67b5c-c872-4d1f-9536-d4b467b32e9d\" type=\"checkbox\" ><label for=\"77d67b5c-c872-4d1f-9536-d4b467b32e9d\" class=\"sk-toggleable__label sk-toggleable__label-arrow\">LogisticRegression</label><div class=\"sk-toggleable__content\"><pre>LogisticRegression()</pre></div></div></div></div></div></div></div>"
      ],
      "text/plain": [
       "Pipeline(steps=[('standard_scaller', StandardScaler()),\n",
       "                ('logistic_regression', LogisticRegression())])"
      ]
     },
     "execution_count": 6,
     "metadata": {},
     "output_type": "execute_result"
    }
   ],
   "source": [
    "pipe"
   ]
  },
  {
   "cell_type": "code",
   "execution_count": 7,
   "id": "2ea24998",
   "metadata": {},
   "outputs": [],
   "source": [
    "from sklearn.datasets import make_classification"
   ]
  },
  {
   "cell_type": "code",
   "execution_count": 8,
   "id": "d92d676e",
   "metadata": {},
   "outputs": [],
   "source": [
    "x,y = make_classification(n_samples=2000)"
   ]
  },
  {
   "cell_type": "code",
   "execution_count": 9,
   "id": "53bb2b3d",
   "metadata": {},
   "outputs": [],
   "source": [
    "from sklearn.model_selection import train_test_split"
   ]
  },
  {
   "cell_type": "code",
   "execution_count": 10,
   "id": "e8d7f2f2",
   "metadata": {},
   "outputs": [],
   "source": [
    "X_train, X_test, y_train, y_test = train_test_split(x, y, test_size=0.33, random_state=42)"
   ]
  },
  {
   "cell_type": "code",
   "execution_count": 11,
   "id": "af490b83",
   "metadata": {},
   "outputs": [
    {
     "data": {
      "text/html": [
       "<style>#sk-f63fb46a-1bac-4310-a7d1-bdcea39e08d1 {color: black;background-color: white;}#sk-f63fb46a-1bac-4310-a7d1-bdcea39e08d1 pre{padding: 0;}#sk-f63fb46a-1bac-4310-a7d1-bdcea39e08d1 div.sk-toggleable {background-color: white;}#sk-f63fb46a-1bac-4310-a7d1-bdcea39e08d1 label.sk-toggleable__label {cursor: pointer;display: block;width: 100%;margin-bottom: 0;padding: 0.3em;box-sizing: border-box;text-align: center;}#sk-f63fb46a-1bac-4310-a7d1-bdcea39e08d1 label.sk-toggleable__label-arrow:before {content: \"▸\";float: left;margin-right: 0.25em;color: #696969;}#sk-f63fb46a-1bac-4310-a7d1-bdcea39e08d1 label.sk-toggleable__label-arrow:hover:before {color: black;}#sk-f63fb46a-1bac-4310-a7d1-bdcea39e08d1 div.sk-estimator:hover label.sk-toggleable__label-arrow:before {color: black;}#sk-f63fb46a-1bac-4310-a7d1-bdcea39e08d1 div.sk-toggleable__content {max-height: 0;max-width: 0;overflow: hidden;text-align: left;background-color: #f0f8ff;}#sk-f63fb46a-1bac-4310-a7d1-bdcea39e08d1 div.sk-toggleable__content pre {margin: 0.2em;color: black;border-radius: 0.25em;background-color: #f0f8ff;}#sk-f63fb46a-1bac-4310-a7d1-bdcea39e08d1 input.sk-toggleable__control:checked~div.sk-toggleable__content {max-height: 200px;max-width: 100%;overflow: auto;}#sk-f63fb46a-1bac-4310-a7d1-bdcea39e08d1 input.sk-toggleable__control:checked~label.sk-toggleable__label-arrow:before {content: \"▾\";}#sk-f63fb46a-1bac-4310-a7d1-bdcea39e08d1 div.sk-estimator input.sk-toggleable__control:checked~label.sk-toggleable__label {background-color: #d4ebff;}#sk-f63fb46a-1bac-4310-a7d1-bdcea39e08d1 div.sk-label input.sk-toggleable__control:checked~label.sk-toggleable__label {background-color: #d4ebff;}#sk-f63fb46a-1bac-4310-a7d1-bdcea39e08d1 input.sk-hidden--visually {border: 0;clip: rect(1px 1px 1px 1px);clip: rect(1px, 1px, 1px, 1px);height: 1px;margin: -1px;overflow: hidden;padding: 0;position: absolute;width: 1px;}#sk-f63fb46a-1bac-4310-a7d1-bdcea39e08d1 div.sk-estimator {font-family: monospace;background-color: #f0f8ff;border: 1px dotted black;border-radius: 0.25em;box-sizing: border-box;margin-bottom: 0.5em;}#sk-f63fb46a-1bac-4310-a7d1-bdcea39e08d1 div.sk-estimator:hover {background-color: #d4ebff;}#sk-f63fb46a-1bac-4310-a7d1-bdcea39e08d1 div.sk-parallel-item::after {content: \"\";width: 100%;border-bottom: 1px solid gray;flex-grow: 1;}#sk-f63fb46a-1bac-4310-a7d1-bdcea39e08d1 div.sk-label:hover label.sk-toggleable__label {background-color: #d4ebff;}#sk-f63fb46a-1bac-4310-a7d1-bdcea39e08d1 div.sk-serial::before {content: \"\";position: absolute;border-left: 1px solid gray;box-sizing: border-box;top: 2em;bottom: 0;left: 50%;}#sk-f63fb46a-1bac-4310-a7d1-bdcea39e08d1 div.sk-serial {display: flex;flex-direction: column;align-items: center;background-color: white;padding-right: 0.2em;padding-left: 0.2em;}#sk-f63fb46a-1bac-4310-a7d1-bdcea39e08d1 div.sk-item {z-index: 1;}#sk-f63fb46a-1bac-4310-a7d1-bdcea39e08d1 div.sk-parallel {display: flex;align-items: stretch;justify-content: center;background-color: white;}#sk-f63fb46a-1bac-4310-a7d1-bdcea39e08d1 div.sk-parallel::before {content: \"\";position: absolute;border-left: 1px solid gray;box-sizing: border-box;top: 2em;bottom: 0;left: 50%;}#sk-f63fb46a-1bac-4310-a7d1-bdcea39e08d1 div.sk-parallel-item {display: flex;flex-direction: column;position: relative;background-color: white;}#sk-f63fb46a-1bac-4310-a7d1-bdcea39e08d1 div.sk-parallel-item:first-child::after {align-self: flex-end;width: 50%;}#sk-f63fb46a-1bac-4310-a7d1-bdcea39e08d1 div.sk-parallel-item:last-child::after {align-self: flex-start;width: 50%;}#sk-f63fb46a-1bac-4310-a7d1-bdcea39e08d1 div.sk-parallel-item:only-child::after {width: 0;}#sk-f63fb46a-1bac-4310-a7d1-bdcea39e08d1 div.sk-dashed-wrapped {border: 1px dashed gray;margin: 0 0.4em 0.5em 0.4em;box-sizing: border-box;padding-bottom: 0.4em;background-color: white;position: relative;}#sk-f63fb46a-1bac-4310-a7d1-bdcea39e08d1 div.sk-label label {font-family: monospace;font-weight: bold;background-color: white;display: inline-block;line-height: 1.2em;}#sk-f63fb46a-1bac-4310-a7d1-bdcea39e08d1 div.sk-label-container {position: relative;z-index: 2;text-align: center;}#sk-f63fb46a-1bac-4310-a7d1-bdcea39e08d1 div.sk-container {/* jupyter's `normalize.less` sets `[hidden] { display: none; }` but bootstrap.min.css set `[hidden] { display: none !important; }` so we also need the `!important` here to be able to override the default hidden behavior on the sphinx rendered scikit-learn.org. See: https://github.com/scikit-learn/scikit-learn/issues/21755 */display: inline-block !important;position: relative;}#sk-f63fb46a-1bac-4310-a7d1-bdcea39e08d1 div.sk-text-repr-fallback {display: none;}</style><div id=\"sk-f63fb46a-1bac-4310-a7d1-bdcea39e08d1\" class=\"sk-top-container\"><div class=\"sk-text-repr-fallback\"><pre>Pipeline(steps=[(&#x27;standard_scaller&#x27;, StandardScaler()),\n",
       "                (&#x27;logistic_regression&#x27;, LogisticRegression())])</pre><b>Please rerun this cell to show the HTML repr or trust the notebook.</b></div><div class=\"sk-container\" hidden><div class=\"sk-item sk-dashed-wrapped\"><div class=\"sk-label-container\"><div class=\"sk-label sk-toggleable\"><input class=\"sk-toggleable__control sk-hidden--visually\" id=\"605ffe33-f1a8-4f5f-9112-723a91b0a068\" type=\"checkbox\" ><label for=\"605ffe33-f1a8-4f5f-9112-723a91b0a068\" class=\"sk-toggleable__label sk-toggleable__label-arrow\">Pipeline</label><div class=\"sk-toggleable__content\"><pre>Pipeline(steps=[(&#x27;standard_scaller&#x27;, StandardScaler()),\n",
       "                (&#x27;logistic_regression&#x27;, LogisticRegression())])</pre></div></div></div><div class=\"sk-serial\"><div class=\"sk-item\"><div class=\"sk-estimator sk-toggleable\"><input class=\"sk-toggleable__control sk-hidden--visually\" id=\"dccf84d6-335f-4cd8-846c-7c9ac7cd3083\" type=\"checkbox\" ><label for=\"dccf84d6-335f-4cd8-846c-7c9ac7cd3083\" class=\"sk-toggleable__label sk-toggleable__label-arrow\">StandardScaler</label><div class=\"sk-toggleable__content\"><pre>StandardScaler()</pre></div></div></div><div class=\"sk-item\"><div class=\"sk-estimator sk-toggleable\"><input class=\"sk-toggleable__control sk-hidden--visually\" id=\"f4251f53-90c5-4799-8d7e-730dde94082a\" type=\"checkbox\" ><label for=\"f4251f53-90c5-4799-8d7e-730dde94082a\" class=\"sk-toggleable__label sk-toggleable__label-arrow\">LogisticRegression</label><div class=\"sk-toggleable__content\"><pre>LogisticRegression()</pre></div></div></div></div></div></div></div>"
      ],
      "text/plain": [
       "Pipeline(steps=[('standard_scaller', StandardScaler()),\n",
       "                ('logistic_regression', LogisticRegression())])"
      ]
     },
     "execution_count": 11,
     "metadata": {},
     "output_type": "execute_result"
    }
   ],
   "source": [
    "pipe.fit(X_train,y_train)"
   ]
  },
  {
   "cell_type": "code",
   "execution_count": 12,
   "id": "593df57c",
   "metadata": {},
   "outputs": [
    {
     "data": {
      "text/plain": [
       "array([0, 0, 0, 0, 0, 1, 1, 1, 0, 1, 1, 0, 1, 1, 1, 1, 0, 1, 1, 1, 0, 0,\n",
       "       1, 1, 1, 1, 0, 1, 0, 1, 1, 0, 1, 1, 0, 1, 0, 0, 1, 0, 0, 0, 0, 0,\n",
       "       1, 0, 1, 0, 1, 0, 0, 1, 0, 0, 0, 1, 1, 0, 1, 0, 1, 1, 1, 1, 1, 0,\n",
       "       0, 1, 1, 0, 1, 1, 1, 1, 0, 0, 0, 1, 1, 1, 0, 0, 1, 0, 0, 0, 1, 0,\n",
       "       1, 1, 0, 1, 1, 0, 1, 0, 0, 1, 0, 0, 0, 1, 0, 0, 0, 0, 0, 1, 0, 1,\n",
       "       0, 1, 1, 1, 1, 0, 0, 0, 0, 1, 0, 1, 0, 1, 0, 0, 0, 1, 0, 1, 1, 1,\n",
       "       0, 0, 1, 0, 0, 0, 1, 0, 1, 0, 1, 0, 1, 0, 0, 1, 0, 0, 1, 0, 0, 1,\n",
       "       1, 1, 1, 0, 1, 1, 0, 0, 1, 0, 1, 1, 0, 0, 0, 0, 1, 1, 0, 0, 0, 0,\n",
       "       1, 1, 1, 0, 0, 1, 0, 0, 0, 0, 0, 1, 1, 1, 1, 1, 1, 0, 1, 1, 0, 0,\n",
       "       0, 1, 0, 0, 1, 0, 1, 1, 1, 0, 0, 0, 0, 0, 1, 1, 1, 1, 0, 1, 0, 0,\n",
       "       0, 1, 1, 1, 1, 0, 0, 0, 1, 1, 1, 0, 1, 1, 0, 1, 1, 1, 0, 0, 1, 0,\n",
       "       0, 1, 0, 0, 0, 0, 1, 1, 0, 1, 1, 1, 0, 1, 0, 1, 0, 1, 0, 1, 1, 1,\n",
       "       1, 1, 0, 1, 1, 1, 1, 0, 0, 0, 0, 0, 1, 1, 0, 0, 0, 0, 0, 1, 0, 0,\n",
       "       0, 0, 0, 1, 0, 1, 1, 0, 1, 1, 0, 0, 0, 0, 0, 0, 0, 0, 0, 1, 1, 1,\n",
       "       1, 0, 1, 1, 0, 1, 0, 1, 1, 1, 1, 0, 1, 0, 0, 0, 0, 1, 1, 0, 1, 0,\n",
       "       1, 0, 0, 0, 0, 1, 1, 0, 1, 1, 1, 0, 0, 0, 1, 0, 1, 0, 1, 0, 1, 0,\n",
       "       1, 1, 0, 1, 1, 0, 1, 0, 0, 1, 1, 0, 0, 0, 0, 1, 0, 0, 1, 0, 0, 0,\n",
       "       0, 0, 1, 0, 0, 1, 1, 0, 1, 1, 0, 1, 1, 1, 1, 0, 1, 1, 1, 0, 0, 1,\n",
       "       1, 1, 1, 0, 0, 0, 0, 1, 0, 1, 1, 1, 1, 0, 1, 1, 1, 0, 1, 1, 0, 0,\n",
       "       0, 0, 1, 1, 1, 1, 0, 1, 0, 0, 0, 1, 0, 0, 0, 1, 1, 0, 0, 1, 0, 0,\n",
       "       0, 0, 0, 0, 1, 0, 0, 1, 0, 1, 1, 1, 0, 0, 0, 1, 1, 0, 0, 1, 0, 1,\n",
       "       0, 1, 1, 0, 1, 1, 1, 0, 1, 0, 1, 1, 0, 0, 0, 1, 1, 0, 1, 1, 1, 0,\n",
       "       0, 0, 0, 1, 0, 0, 0, 0, 0, 0, 0, 0, 1, 0, 0, 1, 0, 0, 0, 1, 1, 0,\n",
       "       0, 0, 1, 0, 1, 0, 1, 0, 1, 0, 1, 1, 1, 1, 1, 1, 1, 1, 0, 1, 0, 1,\n",
       "       1, 1, 1, 1, 1, 1, 1, 1, 0, 1, 1, 0, 0, 1, 1, 1, 1, 1, 0, 0, 1, 1,\n",
       "       0, 0, 1, 1, 0, 0, 1, 1, 1, 0, 0, 1, 0, 1, 0, 0, 1, 1, 0, 0, 1, 1,\n",
       "       0, 0, 0, 0, 1, 0, 0, 0, 0, 1, 0, 0, 1, 0, 0, 0, 0, 0, 0, 0, 1, 1,\n",
       "       1, 1, 1, 0, 0, 1, 1, 0, 1, 0, 1, 1, 1, 1, 0, 0, 1, 1, 1, 1, 0, 0,\n",
       "       0, 0, 0, 0, 1, 0, 1, 0, 0, 1, 0, 0, 1, 1, 0, 0, 0, 0, 0, 1, 1, 1,\n",
       "       0, 0, 0, 0, 0, 1, 0, 1, 0, 0, 1, 0, 0, 1, 1, 1, 0, 0, 1, 0, 1, 0])"
      ]
     },
     "execution_count": 12,
     "metadata": {},
     "output_type": "execute_result"
    }
   ],
   "source": [
    "pipe.predict(X_test)"
   ]
  },
  {
   "cell_type": "code",
   "execution_count": 13,
   "id": "b6d48840",
   "metadata": {},
   "outputs": [],
   "source": [
    "from sklearn.decomposition import PCA\n",
    "from sklearn.svm import SVC"
   ]
  },
  {
   "cell_type": "code",
   "execution_count": 16,
   "id": "ee4c6196",
   "metadata": {},
   "outputs": [],
   "source": [
    "steps=[('scaler',StandardScaler()),\n",
    "      ('PCA',PCA(n_components=3)),\n",
    "      ('svc',SVC())]"
   ]
  },
  {
   "cell_type": "code",
   "execution_count": 17,
   "id": "23b5824c",
   "metadata": {},
   "outputs": [],
   "source": [
    "pipe2 = Pipeline(steps)"
   ]
  },
  {
   "cell_type": "code",
   "execution_count": 18,
   "id": "7f719f56",
   "metadata": {},
   "outputs": [
    {
     "data": {
      "text/html": [
       "<style>#sk-14f1d1ea-3f24-488d-8dec-cb95665a25f3 {color: black;background-color: white;}#sk-14f1d1ea-3f24-488d-8dec-cb95665a25f3 pre{padding: 0;}#sk-14f1d1ea-3f24-488d-8dec-cb95665a25f3 div.sk-toggleable {background-color: white;}#sk-14f1d1ea-3f24-488d-8dec-cb95665a25f3 label.sk-toggleable__label {cursor: pointer;display: block;width: 100%;margin-bottom: 0;padding: 0.3em;box-sizing: border-box;text-align: center;}#sk-14f1d1ea-3f24-488d-8dec-cb95665a25f3 label.sk-toggleable__label-arrow:before {content: \"▸\";float: left;margin-right: 0.25em;color: #696969;}#sk-14f1d1ea-3f24-488d-8dec-cb95665a25f3 label.sk-toggleable__label-arrow:hover:before {color: black;}#sk-14f1d1ea-3f24-488d-8dec-cb95665a25f3 div.sk-estimator:hover label.sk-toggleable__label-arrow:before {color: black;}#sk-14f1d1ea-3f24-488d-8dec-cb95665a25f3 div.sk-toggleable__content {max-height: 0;max-width: 0;overflow: hidden;text-align: left;background-color: #f0f8ff;}#sk-14f1d1ea-3f24-488d-8dec-cb95665a25f3 div.sk-toggleable__content pre {margin: 0.2em;color: black;border-radius: 0.25em;background-color: #f0f8ff;}#sk-14f1d1ea-3f24-488d-8dec-cb95665a25f3 input.sk-toggleable__control:checked~div.sk-toggleable__content {max-height: 200px;max-width: 100%;overflow: auto;}#sk-14f1d1ea-3f24-488d-8dec-cb95665a25f3 input.sk-toggleable__control:checked~label.sk-toggleable__label-arrow:before {content: \"▾\";}#sk-14f1d1ea-3f24-488d-8dec-cb95665a25f3 div.sk-estimator input.sk-toggleable__control:checked~label.sk-toggleable__label {background-color: #d4ebff;}#sk-14f1d1ea-3f24-488d-8dec-cb95665a25f3 div.sk-label input.sk-toggleable__control:checked~label.sk-toggleable__label {background-color: #d4ebff;}#sk-14f1d1ea-3f24-488d-8dec-cb95665a25f3 input.sk-hidden--visually {border: 0;clip: rect(1px 1px 1px 1px);clip: rect(1px, 1px, 1px, 1px);height: 1px;margin: -1px;overflow: hidden;padding: 0;position: absolute;width: 1px;}#sk-14f1d1ea-3f24-488d-8dec-cb95665a25f3 div.sk-estimator {font-family: monospace;background-color: #f0f8ff;border: 1px dotted black;border-radius: 0.25em;box-sizing: border-box;margin-bottom: 0.5em;}#sk-14f1d1ea-3f24-488d-8dec-cb95665a25f3 div.sk-estimator:hover {background-color: #d4ebff;}#sk-14f1d1ea-3f24-488d-8dec-cb95665a25f3 div.sk-parallel-item::after {content: \"\";width: 100%;border-bottom: 1px solid gray;flex-grow: 1;}#sk-14f1d1ea-3f24-488d-8dec-cb95665a25f3 div.sk-label:hover label.sk-toggleable__label {background-color: #d4ebff;}#sk-14f1d1ea-3f24-488d-8dec-cb95665a25f3 div.sk-serial::before {content: \"\";position: absolute;border-left: 1px solid gray;box-sizing: border-box;top: 2em;bottom: 0;left: 50%;}#sk-14f1d1ea-3f24-488d-8dec-cb95665a25f3 div.sk-serial {display: flex;flex-direction: column;align-items: center;background-color: white;padding-right: 0.2em;padding-left: 0.2em;}#sk-14f1d1ea-3f24-488d-8dec-cb95665a25f3 div.sk-item {z-index: 1;}#sk-14f1d1ea-3f24-488d-8dec-cb95665a25f3 div.sk-parallel {display: flex;align-items: stretch;justify-content: center;background-color: white;}#sk-14f1d1ea-3f24-488d-8dec-cb95665a25f3 div.sk-parallel::before {content: \"\";position: absolute;border-left: 1px solid gray;box-sizing: border-box;top: 2em;bottom: 0;left: 50%;}#sk-14f1d1ea-3f24-488d-8dec-cb95665a25f3 div.sk-parallel-item {display: flex;flex-direction: column;position: relative;background-color: white;}#sk-14f1d1ea-3f24-488d-8dec-cb95665a25f3 div.sk-parallel-item:first-child::after {align-self: flex-end;width: 50%;}#sk-14f1d1ea-3f24-488d-8dec-cb95665a25f3 div.sk-parallel-item:last-child::after {align-self: flex-start;width: 50%;}#sk-14f1d1ea-3f24-488d-8dec-cb95665a25f3 div.sk-parallel-item:only-child::after {width: 0;}#sk-14f1d1ea-3f24-488d-8dec-cb95665a25f3 div.sk-dashed-wrapped {border: 1px dashed gray;margin: 0 0.4em 0.5em 0.4em;box-sizing: border-box;padding-bottom: 0.4em;background-color: white;position: relative;}#sk-14f1d1ea-3f24-488d-8dec-cb95665a25f3 div.sk-label label {font-family: monospace;font-weight: bold;background-color: white;display: inline-block;line-height: 1.2em;}#sk-14f1d1ea-3f24-488d-8dec-cb95665a25f3 div.sk-label-container {position: relative;z-index: 2;text-align: center;}#sk-14f1d1ea-3f24-488d-8dec-cb95665a25f3 div.sk-container {/* jupyter's `normalize.less` sets `[hidden] { display: none; }` but bootstrap.min.css set `[hidden] { display: none !important; }` so we also need the `!important` here to be able to override the default hidden behavior on the sphinx rendered scikit-learn.org. See: https://github.com/scikit-learn/scikit-learn/issues/21755 */display: inline-block !important;position: relative;}#sk-14f1d1ea-3f24-488d-8dec-cb95665a25f3 div.sk-text-repr-fallback {display: none;}</style><div id=\"sk-14f1d1ea-3f24-488d-8dec-cb95665a25f3\" class=\"sk-top-container\"><div class=\"sk-text-repr-fallback\"><pre>Pipeline(steps=[(&#x27;scaler&#x27;, StandardScaler()), (&#x27;PCA&#x27;, PCA(n_components=3)),\n",
       "                (&#x27;svc&#x27;, SVC())])</pre><b>Please rerun this cell to show the HTML repr or trust the notebook.</b></div><div class=\"sk-container\" hidden><div class=\"sk-item sk-dashed-wrapped\"><div class=\"sk-label-container\"><div class=\"sk-label sk-toggleable\"><input class=\"sk-toggleable__control sk-hidden--visually\" id=\"8e22e026-dd8f-4640-85d6-dc6affe93b22\" type=\"checkbox\" ><label for=\"8e22e026-dd8f-4640-85d6-dc6affe93b22\" class=\"sk-toggleable__label sk-toggleable__label-arrow\">Pipeline</label><div class=\"sk-toggleable__content\"><pre>Pipeline(steps=[(&#x27;scaler&#x27;, StandardScaler()), (&#x27;PCA&#x27;, PCA(n_components=3)),\n",
       "                (&#x27;svc&#x27;, SVC())])</pre></div></div></div><div class=\"sk-serial\"><div class=\"sk-item\"><div class=\"sk-estimator sk-toggleable\"><input class=\"sk-toggleable__control sk-hidden--visually\" id=\"eabdd839-f7b0-44d1-8b70-093c9f4bbd8d\" type=\"checkbox\" ><label for=\"eabdd839-f7b0-44d1-8b70-093c9f4bbd8d\" class=\"sk-toggleable__label sk-toggleable__label-arrow\">StandardScaler</label><div class=\"sk-toggleable__content\"><pre>StandardScaler()</pre></div></div></div><div class=\"sk-item\"><div class=\"sk-estimator sk-toggleable\"><input class=\"sk-toggleable__control sk-hidden--visually\" id=\"2789a926-a358-40ab-95b6-ed67f6e0c8d0\" type=\"checkbox\" ><label for=\"2789a926-a358-40ab-95b6-ed67f6e0c8d0\" class=\"sk-toggleable__label sk-toggleable__label-arrow\">PCA</label><div class=\"sk-toggleable__content\"><pre>PCA(n_components=3)</pre></div></div></div><div class=\"sk-item\"><div class=\"sk-estimator sk-toggleable\"><input class=\"sk-toggleable__control sk-hidden--visually\" id=\"53c84a1e-13e7-49e4-980e-19c81d3932c0\" type=\"checkbox\" ><label for=\"53c84a1e-13e7-49e4-980e-19c81d3932c0\" class=\"sk-toggleable__label sk-toggleable__label-arrow\">SVC</label><div class=\"sk-toggleable__content\"><pre>SVC()</pre></div></div></div></div></div></div></div>"
      ],
      "text/plain": [
       "Pipeline(steps=[('scaler', StandardScaler()), ('PCA', PCA(n_components=3)),\n",
       "                ('svc', SVC())])"
      ]
     },
     "execution_count": 18,
     "metadata": {},
     "output_type": "execute_result"
    }
   ],
   "source": [
    "pipe2"
   ]
  },
  {
   "cell_type": "code",
   "execution_count": 19,
   "id": "a6a35eaa",
   "metadata": {},
   "outputs": [
    {
     "data": {
      "text/html": [
       "<style>#sk-e1653627-6f26-4d14-8234-03d5b5aea487 {color: black;background-color: white;}#sk-e1653627-6f26-4d14-8234-03d5b5aea487 pre{padding: 0;}#sk-e1653627-6f26-4d14-8234-03d5b5aea487 div.sk-toggleable {background-color: white;}#sk-e1653627-6f26-4d14-8234-03d5b5aea487 label.sk-toggleable__label {cursor: pointer;display: block;width: 100%;margin-bottom: 0;padding: 0.3em;box-sizing: border-box;text-align: center;}#sk-e1653627-6f26-4d14-8234-03d5b5aea487 label.sk-toggleable__label-arrow:before {content: \"▸\";float: left;margin-right: 0.25em;color: #696969;}#sk-e1653627-6f26-4d14-8234-03d5b5aea487 label.sk-toggleable__label-arrow:hover:before {color: black;}#sk-e1653627-6f26-4d14-8234-03d5b5aea487 div.sk-estimator:hover label.sk-toggleable__label-arrow:before {color: black;}#sk-e1653627-6f26-4d14-8234-03d5b5aea487 div.sk-toggleable__content {max-height: 0;max-width: 0;overflow: hidden;text-align: left;background-color: #f0f8ff;}#sk-e1653627-6f26-4d14-8234-03d5b5aea487 div.sk-toggleable__content pre {margin: 0.2em;color: black;border-radius: 0.25em;background-color: #f0f8ff;}#sk-e1653627-6f26-4d14-8234-03d5b5aea487 input.sk-toggleable__control:checked~div.sk-toggleable__content {max-height: 200px;max-width: 100%;overflow: auto;}#sk-e1653627-6f26-4d14-8234-03d5b5aea487 input.sk-toggleable__control:checked~label.sk-toggleable__label-arrow:before {content: \"▾\";}#sk-e1653627-6f26-4d14-8234-03d5b5aea487 div.sk-estimator input.sk-toggleable__control:checked~label.sk-toggleable__label {background-color: #d4ebff;}#sk-e1653627-6f26-4d14-8234-03d5b5aea487 div.sk-label input.sk-toggleable__control:checked~label.sk-toggleable__label {background-color: #d4ebff;}#sk-e1653627-6f26-4d14-8234-03d5b5aea487 input.sk-hidden--visually {border: 0;clip: rect(1px 1px 1px 1px);clip: rect(1px, 1px, 1px, 1px);height: 1px;margin: -1px;overflow: hidden;padding: 0;position: absolute;width: 1px;}#sk-e1653627-6f26-4d14-8234-03d5b5aea487 div.sk-estimator {font-family: monospace;background-color: #f0f8ff;border: 1px dotted black;border-radius: 0.25em;box-sizing: border-box;margin-bottom: 0.5em;}#sk-e1653627-6f26-4d14-8234-03d5b5aea487 div.sk-estimator:hover {background-color: #d4ebff;}#sk-e1653627-6f26-4d14-8234-03d5b5aea487 div.sk-parallel-item::after {content: \"\";width: 100%;border-bottom: 1px solid gray;flex-grow: 1;}#sk-e1653627-6f26-4d14-8234-03d5b5aea487 div.sk-label:hover label.sk-toggleable__label {background-color: #d4ebff;}#sk-e1653627-6f26-4d14-8234-03d5b5aea487 div.sk-serial::before {content: \"\";position: absolute;border-left: 1px solid gray;box-sizing: border-box;top: 2em;bottom: 0;left: 50%;}#sk-e1653627-6f26-4d14-8234-03d5b5aea487 div.sk-serial {display: flex;flex-direction: column;align-items: center;background-color: white;padding-right: 0.2em;padding-left: 0.2em;}#sk-e1653627-6f26-4d14-8234-03d5b5aea487 div.sk-item {z-index: 1;}#sk-e1653627-6f26-4d14-8234-03d5b5aea487 div.sk-parallel {display: flex;align-items: stretch;justify-content: center;background-color: white;}#sk-e1653627-6f26-4d14-8234-03d5b5aea487 div.sk-parallel::before {content: \"\";position: absolute;border-left: 1px solid gray;box-sizing: border-box;top: 2em;bottom: 0;left: 50%;}#sk-e1653627-6f26-4d14-8234-03d5b5aea487 div.sk-parallel-item {display: flex;flex-direction: column;position: relative;background-color: white;}#sk-e1653627-6f26-4d14-8234-03d5b5aea487 div.sk-parallel-item:first-child::after {align-self: flex-end;width: 50%;}#sk-e1653627-6f26-4d14-8234-03d5b5aea487 div.sk-parallel-item:last-child::after {align-self: flex-start;width: 50%;}#sk-e1653627-6f26-4d14-8234-03d5b5aea487 div.sk-parallel-item:only-child::after {width: 0;}#sk-e1653627-6f26-4d14-8234-03d5b5aea487 div.sk-dashed-wrapped {border: 1px dashed gray;margin: 0 0.4em 0.5em 0.4em;box-sizing: border-box;padding-bottom: 0.4em;background-color: white;position: relative;}#sk-e1653627-6f26-4d14-8234-03d5b5aea487 div.sk-label label {font-family: monospace;font-weight: bold;background-color: white;display: inline-block;line-height: 1.2em;}#sk-e1653627-6f26-4d14-8234-03d5b5aea487 div.sk-label-container {position: relative;z-index: 2;text-align: center;}#sk-e1653627-6f26-4d14-8234-03d5b5aea487 div.sk-container {/* jupyter's `normalize.less` sets `[hidden] { display: none; }` but bootstrap.min.css set `[hidden] { display: none !important; }` so we also need the `!important` here to be able to override the default hidden behavior on the sphinx rendered scikit-learn.org. See: https://github.com/scikit-learn/scikit-learn/issues/21755 */display: inline-block !important;position: relative;}#sk-e1653627-6f26-4d14-8234-03d5b5aea487 div.sk-text-repr-fallback {display: none;}</style><div id=\"sk-e1653627-6f26-4d14-8234-03d5b5aea487\" class=\"sk-top-container\"><div class=\"sk-text-repr-fallback\"><pre>Pipeline(steps=[(&#x27;scaler&#x27;, StandardScaler()), (&#x27;PCA&#x27;, PCA(n_components=3)),\n",
       "                (&#x27;svc&#x27;, SVC())])</pre><b>Please rerun this cell to show the HTML repr or trust the notebook.</b></div><div class=\"sk-container\" hidden><div class=\"sk-item sk-dashed-wrapped\"><div class=\"sk-label-container\"><div class=\"sk-label sk-toggleable\"><input class=\"sk-toggleable__control sk-hidden--visually\" id=\"7ca3af7c-f8e8-46f6-9443-989bb304b9ff\" type=\"checkbox\" ><label for=\"7ca3af7c-f8e8-46f6-9443-989bb304b9ff\" class=\"sk-toggleable__label sk-toggleable__label-arrow\">Pipeline</label><div class=\"sk-toggleable__content\"><pre>Pipeline(steps=[(&#x27;scaler&#x27;, StandardScaler()), (&#x27;PCA&#x27;, PCA(n_components=3)),\n",
       "                (&#x27;svc&#x27;, SVC())])</pre></div></div></div><div class=\"sk-serial\"><div class=\"sk-item\"><div class=\"sk-estimator sk-toggleable\"><input class=\"sk-toggleable__control sk-hidden--visually\" id=\"328a79cf-f5d0-485f-8eff-356cb5727b05\" type=\"checkbox\" ><label for=\"328a79cf-f5d0-485f-8eff-356cb5727b05\" class=\"sk-toggleable__label sk-toggleable__label-arrow\">StandardScaler</label><div class=\"sk-toggleable__content\"><pre>StandardScaler()</pre></div></div></div><div class=\"sk-item\"><div class=\"sk-estimator sk-toggleable\"><input class=\"sk-toggleable__control sk-hidden--visually\" id=\"12e9a428-dda5-4617-853f-ebcdd6f0793a\" type=\"checkbox\" ><label for=\"12e9a428-dda5-4617-853f-ebcdd6f0793a\" class=\"sk-toggleable__label sk-toggleable__label-arrow\">PCA</label><div class=\"sk-toggleable__content\"><pre>PCA(n_components=3)</pre></div></div></div><div class=\"sk-item\"><div class=\"sk-estimator sk-toggleable\"><input class=\"sk-toggleable__control sk-hidden--visually\" id=\"2676e778-a295-4b15-ba4e-73dc2528827a\" type=\"checkbox\" ><label for=\"2676e778-a295-4b15-ba4e-73dc2528827a\" class=\"sk-toggleable__label sk-toggleable__label-arrow\">SVC</label><div class=\"sk-toggleable__content\"><pre>SVC()</pre></div></div></div></div></div></div></div>"
      ],
      "text/plain": [
       "Pipeline(steps=[('scaler', StandardScaler()), ('PCA', PCA(n_components=3)),\n",
       "                ('svc', SVC())])"
      ]
     },
     "execution_count": 19,
     "metadata": {},
     "output_type": "execute_result"
    }
   ],
   "source": [
    "pipe2.fit(X_train,y_train)"
   ]
  },
  {
   "cell_type": "code",
   "execution_count": 20,
   "id": "177b0dd2",
   "metadata": {},
   "outputs": [
    {
     "data": {
      "text/plain": [
       "array([0, 0, 0, 0, 0, 0, 1, 1, 0, 1, 1, 0, 1, 1, 1, 1, 0, 1, 1, 0, 0, 0,\n",
       "       1, 0, 1, 0, 0, 1, 0, 1, 1, 0, 1, 1, 0, 1, 0, 0, 1, 0, 0, 0, 0, 0,\n",
       "       1, 0, 1, 0, 1, 0, 0, 1, 0, 0, 0, 1, 1, 0, 1, 1, 1, 1, 1, 1, 1, 0,\n",
       "       0, 1, 1, 0, 1, 1, 1, 1, 0, 0, 0, 1, 1, 1, 0, 0, 1, 0, 0, 0, 1, 0,\n",
       "       1, 1, 0, 1, 1, 0, 1, 0, 0, 1, 0, 0, 0, 1, 0, 0, 0, 0, 0, 1, 0, 1,\n",
       "       0, 1, 1, 1, 1, 0, 0, 0, 0, 1, 0, 1, 0, 1, 0, 0, 0, 1, 0, 0, 1, 0,\n",
       "       0, 0, 1, 0, 0, 0, 1, 0, 1, 0, 1, 0, 1, 0, 0, 1, 0, 0, 1, 0, 0, 1,\n",
       "       1, 1, 0, 0, 1, 1, 0, 0, 1, 0, 1, 1, 0, 0, 0, 0, 1, 1, 0, 0, 0, 0,\n",
       "       1, 1, 1, 0, 0, 1, 0, 0, 0, 0, 0, 0, 0, 1, 1, 1, 1, 0, 1, 1, 0, 0,\n",
       "       0, 1, 0, 0, 1, 0, 1, 1, 1, 0, 0, 0, 1, 0, 1, 1, 1, 0, 0, 1, 0, 0,\n",
       "       0, 1, 1, 1, 1, 0, 0, 0, 1, 1, 1, 0, 0, 1, 0, 1, 1, 1, 0, 0, 1, 0,\n",
       "       0, 1, 0, 0, 0, 0, 1, 1, 0, 1, 1, 1, 0, 1, 0, 1, 0, 1, 0, 0, 1, 1,\n",
       "       1, 1, 0, 1, 1, 0, 1, 0, 0, 0, 0, 0, 1, 1, 0, 0, 0, 0, 0, 1, 0, 0,\n",
       "       0, 0, 0, 1, 0, 1, 0, 0, 1, 1, 0, 0, 0, 0, 0, 0, 0, 0, 0, 1, 1, 1,\n",
       "       1, 0, 1, 1, 0, 1, 0, 1, 1, 1, 1, 0, 1, 0, 0, 1, 1, 1, 1, 0, 1, 0,\n",
       "       1, 0, 0, 0, 0, 1, 1, 0, 1, 1, 1, 0, 0, 0, 1, 0, 1, 0, 1, 0, 1, 0,\n",
       "       1, 1, 0, 1, 0, 1, 1, 0, 0, 1, 1, 0, 0, 0, 0, 1, 0, 0, 1, 0, 0, 0,\n",
       "       0, 0, 1, 0, 1, 0, 0, 0, 1, 1, 0, 1, 1, 1, 1, 0, 1, 1, 1, 0, 0, 1,\n",
       "       1, 1, 1, 0, 0, 1, 0, 1, 0, 1, 0, 1, 1, 0, 1, 1, 1, 0, 1, 1, 0, 1,\n",
       "       0, 0, 1, 1, 1, 1, 0, 1, 0, 0, 1, 1, 0, 0, 0, 1, 1, 1, 0, 1, 0, 0,\n",
       "       0, 0, 0, 0, 1, 0, 0, 1, 0, 1, 1, 1, 0, 0, 0, 1, 1, 0, 0, 1, 0, 1,\n",
       "       0, 1, 1, 0, 1, 1, 1, 1, 1, 1, 1, 1, 0, 0, 0, 1, 1, 0, 0, 1, 1, 0,\n",
       "       0, 0, 0, 1, 0, 0, 0, 0, 0, 0, 0, 0, 1, 0, 0, 1, 0, 0, 0, 1, 1, 0,\n",
       "       0, 0, 1, 0, 1, 0, 1, 0, 1, 0, 1, 1, 1, 1, 1, 1, 1, 1, 1, 0, 0, 1,\n",
       "       1, 1, 1, 1, 1, 1, 1, 1, 0, 1, 1, 0, 0, 1, 1, 1, 1, 1, 0, 0, 0, 1,\n",
       "       0, 0, 0, 1, 0, 1, 1, 0, 1, 0, 0, 1, 0, 1, 0, 0, 1, 1, 0, 0, 1, 1,\n",
       "       0, 0, 0, 0, 1, 0, 0, 0, 0, 0, 0, 0, 1, 0, 0, 0, 0, 0, 0, 0, 0, 1,\n",
       "       1, 1, 1, 0, 0, 1, 1, 0, 1, 0, 1, 1, 1, 1, 1, 0, 1, 1, 1, 1, 0, 0,\n",
       "       0, 0, 0, 0, 1, 0, 0, 0, 0, 1, 0, 0, 1, 1, 0, 0, 0, 0, 0, 1, 1, 1,\n",
       "       0, 0, 0, 1, 0, 1, 0, 1, 0, 0, 1, 0, 0, 1, 1, 0, 0, 0, 1, 0, 1, 0])"
      ]
     },
     "execution_count": 20,
     "metadata": {},
     "output_type": "execute_result"
    }
   ],
   "source": [
    "pipe2.predict(X_test)"
   ]
  },
  {
   "cell_type": "code",
   "execution_count": null,
   "id": "29a825be",
   "metadata": {},
   "outputs": [],
   "source": [
    "from sklearn.impute import SimpleImputer\n"
   ]
  }
 ],
 "metadata": {
  "kernelspec": {
   "display_name": "Python 3 (ipykernel)",
   "language": "python",
   "name": "python3"
  },
  "language_info": {
   "codemirror_mode": {
    "name": "ipython",
    "version": 3
   },
   "file_extension": ".py",
   "mimetype": "text/x-python",
   "name": "python",
   "nbconvert_exporter": "python",
   "pygments_lexer": "ipython3",
   "version": "3.9.12"
  }
 },
 "nbformat": 4,
 "nbformat_minor": 5
}
