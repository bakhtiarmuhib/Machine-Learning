{
 "cells": [
  {
   "cell_type": "code",
   "execution_count": 1,
   "id": "29def235",
   "metadata": {},
   "outputs": [],
   "source": [
    "from sklearn.pipeline import Pipeline\n",
    "from sklearn.preprocessing import StandardScaler\n",
    "from sklearn.linear_model import LogisticRegression\n",
    "from sklearn import set_config"
   ]
  },
  {
   "cell_type": "code",
   "execution_count": 2,
   "id": "378c766f",
   "metadata": {},
   "outputs": [],
   "source": [
    "steps = [('standard_scaller',StandardScaler()),\n",
    "         ('logistic_regression',LogisticRegression())]"
   ]
  },
  {
   "cell_type": "code",
   "execution_count": 3,
   "id": "9cf3a8f6",
   "metadata": {},
   "outputs": [
    {
     "data": {
      "text/plain": [
       "[('standard_scaller', StandardScaler()),\n",
       " ('logistic_regression', LogisticRegression())]"
      ]
     },
     "execution_count": 3,
     "metadata": {},
     "output_type": "execute_result"
    }
   ],
   "source": [
    "steps"
   ]
  },
  {
   "cell_type": "code",
   "execution_count": 4,
   "id": "c56fd7e1",
   "metadata": {},
   "outputs": [],
   "source": [
    "pipe = Pipeline(steps)"
   ]
  },
  {
   "cell_type": "code",
   "execution_count": 5,
   "id": "ff7c9000",
   "metadata": {},
   "outputs": [],
   "source": [
    "set_config(display='diagram')"
   ]
  },
  {
   "cell_type": "code",
   "execution_count": 6,
   "id": "a4f0de6e",
   "metadata": {},
   "outputs": [
    {
     "data": {
      "text/html": [
       "<style>#sk-d64a1fac-c6c6-4af9-b48d-51eb16ccd0f3 {color: black;background-color: white;}#sk-d64a1fac-c6c6-4af9-b48d-51eb16ccd0f3 pre{padding: 0;}#sk-d64a1fac-c6c6-4af9-b48d-51eb16ccd0f3 div.sk-toggleable {background-color: white;}#sk-d64a1fac-c6c6-4af9-b48d-51eb16ccd0f3 label.sk-toggleable__label {cursor: pointer;display: block;width: 100%;margin-bottom: 0;padding: 0.3em;box-sizing: border-box;text-align: center;}#sk-d64a1fac-c6c6-4af9-b48d-51eb16ccd0f3 label.sk-toggleable__label-arrow:before {content: \"▸\";float: left;margin-right: 0.25em;color: #696969;}#sk-d64a1fac-c6c6-4af9-b48d-51eb16ccd0f3 label.sk-toggleable__label-arrow:hover:before {color: black;}#sk-d64a1fac-c6c6-4af9-b48d-51eb16ccd0f3 div.sk-estimator:hover label.sk-toggleable__label-arrow:before {color: black;}#sk-d64a1fac-c6c6-4af9-b48d-51eb16ccd0f3 div.sk-toggleable__content {max-height: 0;max-width: 0;overflow: hidden;text-align: left;background-color: #f0f8ff;}#sk-d64a1fac-c6c6-4af9-b48d-51eb16ccd0f3 div.sk-toggleable__content pre {margin: 0.2em;color: black;border-radius: 0.25em;background-color: #f0f8ff;}#sk-d64a1fac-c6c6-4af9-b48d-51eb16ccd0f3 input.sk-toggleable__control:checked~div.sk-toggleable__content {max-height: 200px;max-width: 100%;overflow: auto;}#sk-d64a1fac-c6c6-4af9-b48d-51eb16ccd0f3 input.sk-toggleable__control:checked~label.sk-toggleable__label-arrow:before {content: \"▾\";}#sk-d64a1fac-c6c6-4af9-b48d-51eb16ccd0f3 div.sk-estimator input.sk-toggleable__control:checked~label.sk-toggleable__label {background-color: #d4ebff;}#sk-d64a1fac-c6c6-4af9-b48d-51eb16ccd0f3 div.sk-label input.sk-toggleable__control:checked~label.sk-toggleable__label {background-color: #d4ebff;}#sk-d64a1fac-c6c6-4af9-b48d-51eb16ccd0f3 input.sk-hidden--visually {border: 0;clip: rect(1px 1px 1px 1px);clip: rect(1px, 1px, 1px, 1px);height: 1px;margin: -1px;overflow: hidden;padding: 0;position: absolute;width: 1px;}#sk-d64a1fac-c6c6-4af9-b48d-51eb16ccd0f3 div.sk-estimator {font-family: monospace;background-color: #f0f8ff;border: 1px dotted black;border-radius: 0.25em;box-sizing: border-box;margin-bottom: 0.5em;}#sk-d64a1fac-c6c6-4af9-b48d-51eb16ccd0f3 div.sk-estimator:hover {background-color: #d4ebff;}#sk-d64a1fac-c6c6-4af9-b48d-51eb16ccd0f3 div.sk-parallel-item::after {content: \"\";width: 100%;border-bottom: 1px solid gray;flex-grow: 1;}#sk-d64a1fac-c6c6-4af9-b48d-51eb16ccd0f3 div.sk-label:hover label.sk-toggleable__label {background-color: #d4ebff;}#sk-d64a1fac-c6c6-4af9-b48d-51eb16ccd0f3 div.sk-serial::before {content: \"\";position: absolute;border-left: 1px solid gray;box-sizing: border-box;top: 2em;bottom: 0;left: 50%;}#sk-d64a1fac-c6c6-4af9-b48d-51eb16ccd0f3 div.sk-serial {display: flex;flex-direction: column;align-items: center;background-color: white;padding-right: 0.2em;padding-left: 0.2em;}#sk-d64a1fac-c6c6-4af9-b48d-51eb16ccd0f3 div.sk-item {z-index: 1;}#sk-d64a1fac-c6c6-4af9-b48d-51eb16ccd0f3 div.sk-parallel {display: flex;align-items: stretch;justify-content: center;background-color: white;}#sk-d64a1fac-c6c6-4af9-b48d-51eb16ccd0f3 div.sk-parallel::before {content: \"\";position: absolute;border-left: 1px solid gray;box-sizing: border-box;top: 2em;bottom: 0;left: 50%;}#sk-d64a1fac-c6c6-4af9-b48d-51eb16ccd0f3 div.sk-parallel-item {display: flex;flex-direction: column;position: relative;background-color: white;}#sk-d64a1fac-c6c6-4af9-b48d-51eb16ccd0f3 div.sk-parallel-item:first-child::after {align-self: flex-end;width: 50%;}#sk-d64a1fac-c6c6-4af9-b48d-51eb16ccd0f3 div.sk-parallel-item:last-child::after {align-self: flex-start;width: 50%;}#sk-d64a1fac-c6c6-4af9-b48d-51eb16ccd0f3 div.sk-parallel-item:only-child::after {width: 0;}#sk-d64a1fac-c6c6-4af9-b48d-51eb16ccd0f3 div.sk-dashed-wrapped {border: 1px dashed gray;margin: 0 0.4em 0.5em 0.4em;box-sizing: border-box;padding-bottom: 0.4em;background-color: white;position: relative;}#sk-d64a1fac-c6c6-4af9-b48d-51eb16ccd0f3 div.sk-label label {font-family: monospace;font-weight: bold;background-color: white;display: inline-block;line-height: 1.2em;}#sk-d64a1fac-c6c6-4af9-b48d-51eb16ccd0f3 div.sk-label-container {position: relative;z-index: 2;text-align: center;}#sk-d64a1fac-c6c6-4af9-b48d-51eb16ccd0f3 div.sk-container {/* jupyter's `normalize.less` sets `[hidden] { display: none; }` but bootstrap.min.css set `[hidden] { display: none !important; }` so we also need the `!important` here to be able to override the default hidden behavior on the sphinx rendered scikit-learn.org. See: https://github.com/scikit-learn/scikit-learn/issues/21755 */display: inline-block !important;position: relative;}#sk-d64a1fac-c6c6-4af9-b48d-51eb16ccd0f3 div.sk-text-repr-fallback {display: none;}</style><div id=\"sk-d64a1fac-c6c6-4af9-b48d-51eb16ccd0f3\" class=\"sk-top-container\"><div class=\"sk-text-repr-fallback\"><pre>Pipeline(steps=[(&#x27;standard_scaller&#x27;, StandardScaler()),\n",
       "                (&#x27;logistic_regression&#x27;, LogisticRegression())])</pre><b>Please rerun this cell to show the HTML repr or trust the notebook.</b></div><div class=\"sk-container\" hidden><div class=\"sk-item sk-dashed-wrapped\"><div class=\"sk-label-container\"><div class=\"sk-label sk-toggleable\"><input class=\"sk-toggleable__control sk-hidden--visually\" id=\"a9f7d626-056a-4770-9168-2c2e2b9de8ac\" type=\"checkbox\" ><label for=\"a9f7d626-056a-4770-9168-2c2e2b9de8ac\" class=\"sk-toggleable__label sk-toggleable__label-arrow\">Pipeline</label><div class=\"sk-toggleable__content\"><pre>Pipeline(steps=[(&#x27;standard_scaller&#x27;, StandardScaler()),\n",
       "                (&#x27;logistic_regression&#x27;, LogisticRegression())])</pre></div></div></div><div class=\"sk-serial\"><div class=\"sk-item\"><div class=\"sk-estimator sk-toggleable\"><input class=\"sk-toggleable__control sk-hidden--visually\" id=\"27483cc1-6433-445b-801f-30d27a82161f\" type=\"checkbox\" ><label for=\"27483cc1-6433-445b-801f-30d27a82161f\" class=\"sk-toggleable__label sk-toggleable__label-arrow\">StandardScaler</label><div class=\"sk-toggleable__content\"><pre>StandardScaler()</pre></div></div></div><div class=\"sk-item\"><div class=\"sk-estimator sk-toggleable\"><input class=\"sk-toggleable__control sk-hidden--visually\" id=\"77d67b5c-c872-4d1f-9536-d4b467b32e9d\" type=\"checkbox\" ><label for=\"77d67b5c-c872-4d1f-9536-d4b467b32e9d\" class=\"sk-toggleable__label sk-toggleable__label-arrow\">LogisticRegression</label><div class=\"sk-toggleable__content\"><pre>LogisticRegression()</pre></div></div></div></div></div></div></div>"
      ],
      "text/plain": [
       "Pipeline(steps=[('standard_scaller', StandardScaler()),\n",
       "                ('logistic_regression', LogisticRegression())])"
      ]
     },
     "execution_count": 6,
     "metadata": {},
     "output_type": "execute_result"
    }
   ],
   "source": [
    "pipe"
   ]
  },
  {
   "cell_type": "code",
   "execution_count": 7,
   "id": "a8582b52",
   "metadata": {},
   "outputs": [],
   "source": [
    "from sklearn.datasets import make_classification"
   ]
  },
  {
   "cell_type": "code",
   "execution_count": 8,
   "id": "8044ebad",
   "metadata": {},
   "outputs": [],
   "source": [
    "x,y = make_classification(n_samples=2000)"
   ]
  },
  {
   "cell_type": "code",
   "execution_count": 9,
   "id": "6651f233",
   "metadata": {},
   "outputs": [],
   "source": [
    "from sklearn.model_selection import train_test_split"
   ]
  },
  {
   "cell_type": "code",
   "execution_count": 10,
   "id": "25e71c2d",
   "metadata": {},
   "outputs": [],
   "source": [
    "X_train, X_test, y_train, y_test = train_test_split(x, y, test_size=0.33, random_state=42)"
   ]
  },
  {
   "cell_type": "code",
   "execution_count": 11,
   "id": "512e9480",
   "metadata": {},
   "outputs": [
    {
     "data": {
      "text/html": [
       "<style>#sk-f63fb46a-1bac-4310-a7d1-bdcea39e08d1 {color: black;background-color: white;}#sk-f63fb46a-1bac-4310-a7d1-bdcea39e08d1 pre{padding: 0;}#sk-f63fb46a-1bac-4310-a7d1-bdcea39e08d1 div.sk-toggleable {background-color: white;}#sk-f63fb46a-1bac-4310-a7d1-bdcea39e08d1 label.sk-toggleable__label {cursor: pointer;display: block;width: 100%;margin-bottom: 0;padding: 0.3em;box-sizing: border-box;text-align: center;}#sk-f63fb46a-1bac-4310-a7d1-bdcea39e08d1 label.sk-toggleable__label-arrow:before {content: \"▸\";float: left;margin-right: 0.25em;color: #696969;}#sk-f63fb46a-1bac-4310-a7d1-bdcea39e08d1 label.sk-toggleable__label-arrow:hover:before {color: black;}#sk-f63fb46a-1bac-4310-a7d1-bdcea39e08d1 div.sk-estimator:hover label.sk-toggleable__label-arrow:before {color: black;}#sk-f63fb46a-1bac-4310-a7d1-bdcea39e08d1 div.sk-toggleable__content {max-height: 0;max-width: 0;overflow: hidden;text-align: left;background-color: #f0f8ff;}#sk-f63fb46a-1bac-4310-a7d1-bdcea39e08d1 div.sk-toggleable__content pre {margin: 0.2em;color: black;border-radius: 0.25em;background-color: #f0f8ff;}#sk-f63fb46a-1bac-4310-a7d1-bdcea39e08d1 input.sk-toggleable__control:checked~div.sk-toggleable__content {max-height: 200px;max-width: 100%;overflow: auto;}#sk-f63fb46a-1bac-4310-a7d1-bdcea39e08d1 input.sk-toggleable__control:checked~label.sk-toggleable__label-arrow:before {content: \"▾\";}#sk-f63fb46a-1bac-4310-a7d1-bdcea39e08d1 div.sk-estimator input.sk-toggleable__control:checked~label.sk-toggleable__label {background-color: #d4ebff;}#sk-f63fb46a-1bac-4310-a7d1-bdcea39e08d1 div.sk-label input.sk-toggleable__control:checked~label.sk-toggleable__label {background-color: #d4ebff;}#sk-f63fb46a-1bac-4310-a7d1-bdcea39e08d1 input.sk-hidden--visually {border: 0;clip: rect(1px 1px 1px 1px);clip: rect(1px, 1px, 1px, 1px);height: 1px;margin: -1px;overflow: hidden;padding: 0;position: absolute;width: 1px;}#sk-f63fb46a-1bac-4310-a7d1-bdcea39e08d1 div.sk-estimator {font-family: monospace;background-color: #f0f8ff;border: 1px dotted black;border-radius: 0.25em;box-sizing: border-box;margin-bottom: 0.5em;}#sk-f63fb46a-1bac-4310-a7d1-bdcea39e08d1 div.sk-estimator:hover {background-color: #d4ebff;}#sk-f63fb46a-1bac-4310-a7d1-bdcea39e08d1 div.sk-parallel-item::after {content: \"\";width: 100%;border-bottom: 1px solid gray;flex-grow: 1;}#sk-f63fb46a-1bac-4310-a7d1-bdcea39e08d1 div.sk-label:hover label.sk-toggleable__label {background-color: #d4ebff;}#sk-f63fb46a-1bac-4310-a7d1-bdcea39e08d1 div.sk-serial::before {content: \"\";position: absolute;border-left: 1px solid gray;box-sizing: border-box;top: 2em;bottom: 0;left: 50%;}#sk-f63fb46a-1bac-4310-a7d1-bdcea39e08d1 div.sk-serial {display: flex;flex-direction: column;align-items: center;background-color: white;padding-right: 0.2em;padding-left: 0.2em;}#sk-f63fb46a-1bac-4310-a7d1-bdcea39e08d1 div.sk-item {z-index: 1;}#sk-f63fb46a-1bac-4310-a7d1-bdcea39e08d1 div.sk-parallel {display: flex;align-items: stretch;justify-content: center;background-color: white;}#sk-f63fb46a-1bac-4310-a7d1-bdcea39e08d1 div.sk-parallel::before {content: \"\";position: absolute;border-left: 1px solid gray;box-sizing: border-box;top: 2em;bottom: 0;left: 50%;}#sk-f63fb46a-1bac-4310-a7d1-bdcea39e08d1 div.sk-parallel-item {display: flex;flex-direction: column;position: relative;background-color: white;}#sk-f63fb46a-1bac-4310-a7d1-bdcea39e08d1 div.sk-parallel-item:first-child::after {align-self: flex-end;width: 50%;}#sk-f63fb46a-1bac-4310-a7d1-bdcea39e08d1 div.sk-parallel-item:last-child::after {align-self: flex-start;width: 50%;}#sk-f63fb46a-1bac-4310-a7d1-bdcea39e08d1 div.sk-parallel-item:only-child::after {width: 0;}#sk-f63fb46a-1bac-4310-a7d1-bdcea39e08d1 div.sk-dashed-wrapped {border: 1px dashed gray;margin: 0 0.4em 0.5em 0.4em;box-sizing: border-box;padding-bottom: 0.4em;background-color: white;position: relative;}#sk-f63fb46a-1bac-4310-a7d1-bdcea39e08d1 div.sk-label label {font-family: monospace;font-weight: bold;background-color: white;display: inline-block;line-height: 1.2em;}#sk-f63fb46a-1bac-4310-a7d1-bdcea39e08d1 div.sk-label-container {position: relative;z-index: 2;text-align: center;}#sk-f63fb46a-1bac-4310-a7d1-bdcea39e08d1 div.sk-container {/* jupyter's `normalize.less` sets `[hidden] { display: none; }` but bootstrap.min.css set `[hidden] { display: none !important; }` so we also need the `!important` here to be able to override the default hidden behavior on the sphinx rendered scikit-learn.org. See: https://github.com/scikit-learn/scikit-learn/issues/21755 */display: inline-block !important;position: relative;}#sk-f63fb46a-1bac-4310-a7d1-bdcea39e08d1 div.sk-text-repr-fallback {display: none;}</style><div id=\"sk-f63fb46a-1bac-4310-a7d1-bdcea39e08d1\" class=\"sk-top-container\"><div class=\"sk-text-repr-fallback\"><pre>Pipeline(steps=[(&#x27;standard_scaller&#x27;, StandardScaler()),\n",
       "                (&#x27;logistic_regression&#x27;, LogisticRegression())])</pre><b>Please rerun this cell to show the HTML repr or trust the notebook.</b></div><div class=\"sk-container\" hidden><div class=\"sk-item sk-dashed-wrapped\"><div class=\"sk-label-container\"><div class=\"sk-label sk-toggleable\"><input class=\"sk-toggleable__control sk-hidden--visually\" id=\"605ffe33-f1a8-4f5f-9112-723a91b0a068\" type=\"checkbox\" ><label for=\"605ffe33-f1a8-4f5f-9112-723a91b0a068\" class=\"sk-toggleable__label sk-toggleable__label-arrow\">Pipeline</label><div class=\"sk-toggleable__content\"><pre>Pipeline(steps=[(&#x27;standard_scaller&#x27;, StandardScaler()),\n",
       "                (&#x27;logistic_regression&#x27;, LogisticRegression())])</pre></div></div></div><div class=\"sk-serial\"><div class=\"sk-item\"><div class=\"sk-estimator sk-toggleable\"><input class=\"sk-toggleable__control sk-hidden--visually\" id=\"dccf84d6-335f-4cd8-846c-7c9ac7cd3083\" type=\"checkbox\" ><label for=\"dccf84d6-335f-4cd8-846c-7c9ac7cd3083\" class=\"sk-toggleable__label sk-toggleable__label-arrow\">StandardScaler</label><div class=\"sk-toggleable__content\"><pre>StandardScaler()</pre></div></div></div><div class=\"sk-item\"><div class=\"sk-estimator sk-toggleable\"><input class=\"sk-toggleable__control sk-hidden--visually\" id=\"f4251f53-90c5-4799-8d7e-730dde94082a\" type=\"checkbox\" ><label for=\"f4251f53-90c5-4799-8d7e-730dde94082a\" class=\"sk-toggleable__label sk-toggleable__label-arrow\">LogisticRegression</label><div class=\"sk-toggleable__content\"><pre>LogisticRegression()</pre></div></div></div></div></div></div></div>"
      ],
      "text/plain": [
       "Pipeline(steps=[('standard_scaller', StandardScaler()),\n",
       "                ('logistic_regression', LogisticRegression())])"
      ]
     },
     "execution_count": 11,
     "metadata": {},
     "output_type": "execute_result"
    }
   ],
   "source": [
    "pipe.fit(X_train,y_train)"
   ]
  },
  {
   "cell_type": "code",
   "execution_count": 12,
   "id": "4b312a70",
   "metadata": {},
   "outputs": [
    {
     "data": {
      "text/plain": [
       "array([0, 0, 0, 0, 0, 1, 1, 1, 0, 1, 1, 0, 1, 1, 1, 1, 0, 1, 1, 1, 0, 0,\n",
       "       1, 1, 1, 1, 0, 1, 0, 1, 1, 0, 1, 1, 0, 1, 0, 0, 1, 0, 0, 0, 0, 0,\n",
       "       1, 0, 1, 0, 1, 0, 0, 1, 0, 0, 0, 1, 1, 0, 1, 0, 1, 1, 1, 1, 1, 0,\n",
       "       0, 1, 1, 0, 1, 1, 1, 1, 0, 0, 0, 1, 1, 1, 0, 0, 1, 0, 0, 0, 1, 0,\n",
       "       1, 1, 0, 1, 1, 0, 1, 0, 0, 1, 0, 0, 0, 1, 0, 0, 0, 0, 0, 1, 0, 1,\n",
       "       0, 1, 1, 1, 1, 0, 0, 0, 0, 1, 0, 1, 0, 1, 0, 0, 0, 1, 0, 1, 1, 1,\n",
       "       0, 0, 1, 0, 0, 0, 1, 0, 1, 0, 1, 0, 1, 0, 0, 1, 0, 0, 1, 0, 0, 1,\n",
       "       1, 1, 1, 0, 1, 1, 0, 0, 1, 0, 1, 1, 0, 0, 0, 0, 1, 1, 0, 0, 0, 0,\n",
       "       1, 1, 1, 0, 0, 1, 0, 0, 0, 0, 0, 1, 1, 1, 1, 1, 1, 0, 1, 1, 0, 0,\n",
       "       0, 1, 0, 0, 1, 0, 1, 1, 1, 0, 0, 0, 0, 0, 1, 1, 1, 1, 0, 1, 0, 0,\n",
       "       0, 1, 1, 1, 1, 0, 0, 0, 1, 1, 1, 0, 1, 1, 0, 1, 1, 1, 0, 0, 1, 0,\n",
       "       0, 1, 0, 0, 0, 0, 1, 1, 0, 1, 1, 1, 0, 1, 0, 1, 0, 1, 0, 1, 1, 1,\n",
       "       1, 1, 0, 1, 1, 1, 1, 0, 0, 0, 0, 0, 1, 1, 0, 0, 0, 0, 0, 1, 0, 0,\n",
       "       0, 0, 0, 1, 0, 1, 1, 0, 1, 1, 0, 0, 0, 0, 0, 0, 0, 0, 0, 1, 1, 1,\n",
       "       1, 0, 1, 1, 0, 1, 0, 1, 1, 1, 1, 0, 1, 0, 0, 0, 0, 1, 1, 0, 1, 0,\n",
       "       1, 0, 0, 0, 0, 1, 1, 0, 1, 1, 1, 0, 0, 0, 1, 0, 1, 0, 1, 0, 1, 0,\n",
       "       1, 1, 0, 1, 1, 0, 1, 0, 0, 1, 1, 0, 0, 0, 0, 1, 0, 0, 1, 0, 0, 0,\n",
       "       0, 0, 1, 0, 0, 1, 1, 0, 1, 1, 0, 1, 1, 1, 1, 0, 1, 1, 1, 0, 0, 1,\n",
       "       1, 1, 1, 0, 0, 0, 0, 1, 0, 1, 1, 1, 1, 0, 1, 1, 1, 0, 1, 1, 0, 0,\n",
       "       0, 0, 1, 1, 1, 1, 0, 1, 0, 0, 0, 1, 0, 0, 0, 1, 1, 0, 0, 1, 0, 0,\n",
       "       0, 0, 0, 0, 1, 0, 0, 1, 0, 1, 1, 1, 0, 0, 0, 1, 1, 0, 0, 1, 0, 1,\n",
       "       0, 1, 1, 0, 1, 1, 1, 0, 1, 0, 1, 1, 0, 0, 0, 1, 1, 0, 1, 1, 1, 0,\n",
       "       0, 0, 0, 1, 0, 0, 0, 0, 0, 0, 0, 0, 1, 0, 0, 1, 0, 0, 0, 1, 1, 0,\n",
       "       0, 0, 1, 0, 1, 0, 1, 0, 1, 0, 1, 1, 1, 1, 1, 1, 1, 1, 0, 1, 0, 1,\n",
       "       1, 1, 1, 1, 1, 1, 1, 1, 0, 1, 1, 0, 0, 1, 1, 1, 1, 1, 0, 0, 1, 1,\n",
       "       0, 0, 1, 1, 0, 0, 1, 1, 1, 0, 0, 1, 0, 1, 0, 0, 1, 1, 0, 0, 1, 1,\n",
       "       0, 0, 0, 0, 1, 0, 0, 0, 0, 1, 0, 0, 1, 0, 0, 0, 0, 0, 0, 0, 1, 1,\n",
       "       1, 1, 1, 0, 0, 1, 1, 0, 1, 0, 1, 1, 1, 1, 0, 0, 1, 1, 1, 1, 0, 0,\n",
       "       0, 0, 0, 0, 1, 0, 1, 0, 0, 1, 0, 0, 1, 1, 0, 0, 0, 0, 0, 1, 1, 1,\n",
       "       0, 0, 0, 0, 0, 1, 0, 1, 0, 0, 1, 0, 0, 1, 1, 1, 0, 0, 1, 0, 1, 0])"
      ]
     },
     "execution_count": 12,
     "metadata": {},
     "output_type": "execute_result"
    }
   ],
   "source": [
    "pipe.predict(X_test)"
   ]
  },
  {
   "cell_type": "code",
   "execution_count": 13,
   "id": "afce403f",
   "metadata": {},
   "outputs": [],
   "source": [
    "from sklearn.decomposition import PCA\n",
    "from sklearn.svm import SVC"
   ]
  },
  {
   "cell_type": "code",
   "execution_count": 16,
   "id": "09ecf7bc",
   "metadata": {},
   "outputs": [],
   "source": [
    "steps=[('scaler',StandardScaler()),\n",
    "      ('PCA',PCA(n_components=3)),\n",
    "      ('svc',SVC())]"
   ]
  },
  {
   "cell_type": "code",
   "execution_count": 17,
   "id": "571a8cc3",
   "metadata": {},
   "outputs": [],
   "source": [
    "pipe2 = Pipeline(steps)"
   ]
  },
  {
   "cell_type": "code",
   "execution_count": 18,
   "id": "9000acad",
   "metadata": {},
   "outputs": [
    {
     "data": {
      "text/html": [
       "<style>#sk-14f1d1ea-3f24-488d-8dec-cb95665a25f3 {color: black;background-color: white;}#sk-14f1d1ea-3f24-488d-8dec-cb95665a25f3 pre{padding: 0;}#sk-14f1d1ea-3f24-488d-8dec-cb95665a25f3 div.sk-toggleable {background-color: white;}#sk-14f1d1ea-3f24-488d-8dec-cb95665a25f3 label.sk-toggleable__label {cursor: pointer;display: block;width: 100%;margin-bottom: 0;padding: 0.3em;box-sizing: border-box;text-align: center;}#sk-14f1d1ea-3f24-488d-8dec-cb95665a25f3 label.sk-toggleable__label-arrow:before {content: \"▸\";float: left;margin-right: 0.25em;color: #696969;}#sk-14f1d1ea-3f24-488d-8dec-cb95665a25f3 label.sk-toggleable__label-arrow:hover:before {color: black;}#sk-14f1d1ea-3f24-488d-8dec-cb95665a25f3 div.sk-estimator:hover label.sk-toggleable__label-arrow:before {color: black;}#sk-14f1d1ea-3f24-488d-8dec-cb95665a25f3 div.sk-toggleable__content {max-height: 0;max-width: 0;overflow: hidden;text-align: left;background-color: #f0f8ff;}#sk-14f1d1ea-3f24-488d-8dec-cb95665a25f3 div.sk-toggleable__content pre {margin: 0.2em;color: black;border-radius: 0.25em;background-color: #f0f8ff;}#sk-14f1d1ea-3f24-488d-8dec-cb95665a25f3 input.sk-toggleable__control:checked~div.sk-toggleable__content {max-height: 200px;max-width: 100%;overflow: auto;}#sk-14f1d1ea-3f24-488d-8dec-cb95665a25f3 input.sk-toggleable__control:checked~label.sk-toggleable__label-arrow:before {content: \"▾\";}#sk-14f1d1ea-3f24-488d-8dec-cb95665a25f3 div.sk-estimator input.sk-toggleable__control:checked~label.sk-toggleable__label {background-color: #d4ebff;}#sk-14f1d1ea-3f24-488d-8dec-cb95665a25f3 div.sk-label input.sk-toggleable__control:checked~label.sk-toggleable__label {background-color: #d4ebff;}#sk-14f1d1ea-3f24-488d-8dec-cb95665a25f3 input.sk-hidden--visually {border: 0;clip: rect(1px 1px 1px 1px);clip: rect(1px, 1px, 1px, 1px);height: 1px;margin: -1px;overflow: hidden;padding: 0;position: absolute;width: 1px;}#sk-14f1d1ea-3f24-488d-8dec-cb95665a25f3 div.sk-estimator {font-family: monospace;background-color: #f0f8ff;border: 1px dotted black;border-radius: 0.25em;box-sizing: border-box;margin-bottom: 0.5em;}#sk-14f1d1ea-3f24-488d-8dec-cb95665a25f3 div.sk-estimator:hover {background-color: #d4ebff;}#sk-14f1d1ea-3f24-488d-8dec-cb95665a25f3 div.sk-parallel-item::after {content: \"\";width: 100%;border-bottom: 1px solid gray;flex-grow: 1;}#sk-14f1d1ea-3f24-488d-8dec-cb95665a25f3 div.sk-label:hover label.sk-toggleable__label {background-color: #d4ebff;}#sk-14f1d1ea-3f24-488d-8dec-cb95665a25f3 div.sk-serial::before {content: \"\";position: absolute;border-left: 1px solid gray;box-sizing: border-box;top: 2em;bottom: 0;left: 50%;}#sk-14f1d1ea-3f24-488d-8dec-cb95665a25f3 div.sk-serial {display: flex;flex-direction: column;align-items: center;background-color: white;padding-right: 0.2em;padding-left: 0.2em;}#sk-14f1d1ea-3f24-488d-8dec-cb95665a25f3 div.sk-item {z-index: 1;}#sk-14f1d1ea-3f24-488d-8dec-cb95665a25f3 div.sk-parallel {display: flex;align-items: stretch;justify-content: center;background-color: white;}#sk-14f1d1ea-3f24-488d-8dec-cb95665a25f3 div.sk-parallel::before {content: \"\";position: absolute;border-left: 1px solid gray;box-sizing: border-box;top: 2em;bottom: 0;left: 50%;}#sk-14f1d1ea-3f24-488d-8dec-cb95665a25f3 div.sk-parallel-item {display: flex;flex-direction: column;position: relative;background-color: white;}#sk-14f1d1ea-3f24-488d-8dec-cb95665a25f3 div.sk-parallel-item:first-child::after {align-self: flex-end;width: 50%;}#sk-14f1d1ea-3f24-488d-8dec-cb95665a25f3 div.sk-parallel-item:last-child::after {align-self: flex-start;width: 50%;}#sk-14f1d1ea-3f24-488d-8dec-cb95665a25f3 div.sk-parallel-item:only-child::after {width: 0;}#sk-14f1d1ea-3f24-488d-8dec-cb95665a25f3 div.sk-dashed-wrapped {border: 1px dashed gray;margin: 0 0.4em 0.5em 0.4em;box-sizing: border-box;padding-bottom: 0.4em;background-color: white;position: relative;}#sk-14f1d1ea-3f24-488d-8dec-cb95665a25f3 div.sk-label label {font-family: monospace;font-weight: bold;background-color: white;display: inline-block;line-height: 1.2em;}#sk-14f1d1ea-3f24-488d-8dec-cb95665a25f3 div.sk-label-container {position: relative;z-index: 2;text-align: center;}#sk-14f1d1ea-3f24-488d-8dec-cb95665a25f3 div.sk-container {/* jupyter's `normalize.less` sets `[hidden] { display: none; }` but bootstrap.min.css set `[hidden] { display: none !important; }` so we also need the `!important` here to be able to override the default hidden behavior on the sphinx rendered scikit-learn.org. See: https://github.com/scikit-learn/scikit-learn/issues/21755 */display: inline-block !important;position: relative;}#sk-14f1d1ea-3f24-488d-8dec-cb95665a25f3 div.sk-text-repr-fallback {display: none;}</style><div id=\"sk-14f1d1ea-3f24-488d-8dec-cb95665a25f3\" class=\"sk-top-container\"><div class=\"sk-text-repr-fallback\"><pre>Pipeline(steps=[(&#x27;scaler&#x27;, StandardScaler()), (&#x27;PCA&#x27;, PCA(n_components=3)),\n",
       "                (&#x27;svc&#x27;, SVC())])</pre><b>Please rerun this cell to show the HTML repr or trust the notebook.</b></div><div class=\"sk-container\" hidden><div class=\"sk-item sk-dashed-wrapped\"><div class=\"sk-label-container\"><div class=\"sk-label sk-toggleable\"><input class=\"sk-toggleable__control sk-hidden--visually\" id=\"8e22e026-dd8f-4640-85d6-dc6affe93b22\" type=\"checkbox\" ><label for=\"8e22e026-dd8f-4640-85d6-dc6affe93b22\" class=\"sk-toggleable__label sk-toggleable__label-arrow\">Pipeline</label><div class=\"sk-toggleable__content\"><pre>Pipeline(steps=[(&#x27;scaler&#x27;, StandardScaler()), (&#x27;PCA&#x27;, PCA(n_components=3)),\n",
       "                (&#x27;svc&#x27;, SVC())])</pre></div></div></div><div class=\"sk-serial\"><div class=\"sk-item\"><div class=\"sk-estimator sk-toggleable\"><input class=\"sk-toggleable__control sk-hidden--visually\" id=\"eabdd839-f7b0-44d1-8b70-093c9f4bbd8d\" type=\"checkbox\" ><label for=\"eabdd839-f7b0-44d1-8b70-093c9f4bbd8d\" class=\"sk-toggleable__label sk-toggleable__label-arrow\">StandardScaler</label><div class=\"sk-toggleable__content\"><pre>StandardScaler()</pre></div></div></div><div class=\"sk-item\"><div class=\"sk-estimator sk-toggleable\"><input class=\"sk-toggleable__control sk-hidden--visually\" id=\"2789a926-a358-40ab-95b6-ed67f6e0c8d0\" type=\"checkbox\" ><label for=\"2789a926-a358-40ab-95b6-ed67f6e0c8d0\" class=\"sk-toggleable__label sk-toggleable__label-arrow\">PCA</label><div class=\"sk-toggleable__content\"><pre>PCA(n_components=3)</pre></div></div></div><div class=\"sk-item\"><div class=\"sk-estimator sk-toggleable\"><input class=\"sk-toggleable__control sk-hidden--visually\" id=\"53c84a1e-13e7-49e4-980e-19c81d3932c0\" type=\"checkbox\" ><label for=\"53c84a1e-13e7-49e4-980e-19c81d3932c0\" class=\"sk-toggleable__label sk-toggleable__label-arrow\">SVC</label><div class=\"sk-toggleable__content\"><pre>SVC()</pre></div></div></div></div></div></div></div>"
      ],
      "text/plain": [
       "Pipeline(steps=[('scaler', StandardScaler()), ('PCA', PCA(n_components=3)),\n",
       "                ('svc', SVC())])"
      ]
     },
     "execution_count": 18,
     "metadata": {},
     "output_type": "execute_result"
    }
   ],
   "source": [
    "pipe2"
   ]
  },
  {
   "cell_type": "code",
   "execution_count": 19,
   "id": "9c37d87e",
   "metadata": {},
   "outputs": [
    {
     "data": {
      "text/html": [
       "<style>#sk-e1653627-6f26-4d14-8234-03d5b5aea487 {color: black;background-color: white;}#sk-e1653627-6f26-4d14-8234-03d5b5aea487 pre{padding: 0;}#sk-e1653627-6f26-4d14-8234-03d5b5aea487 div.sk-toggleable {background-color: white;}#sk-e1653627-6f26-4d14-8234-03d5b5aea487 label.sk-toggleable__label {cursor: pointer;display: block;width: 100%;margin-bottom: 0;padding: 0.3em;box-sizing: border-box;text-align: center;}#sk-e1653627-6f26-4d14-8234-03d5b5aea487 label.sk-toggleable__label-arrow:before {content: \"▸\";float: left;margin-right: 0.25em;color: #696969;}#sk-e1653627-6f26-4d14-8234-03d5b5aea487 label.sk-toggleable__label-arrow:hover:before {color: black;}#sk-e1653627-6f26-4d14-8234-03d5b5aea487 div.sk-estimator:hover label.sk-toggleable__label-arrow:before {color: black;}#sk-e1653627-6f26-4d14-8234-03d5b5aea487 div.sk-toggleable__content {max-height: 0;max-width: 0;overflow: hidden;text-align: left;background-color: #f0f8ff;}#sk-e1653627-6f26-4d14-8234-03d5b5aea487 div.sk-toggleable__content pre {margin: 0.2em;color: black;border-radius: 0.25em;background-color: #f0f8ff;}#sk-e1653627-6f26-4d14-8234-03d5b5aea487 input.sk-toggleable__control:checked~div.sk-toggleable__content {max-height: 200px;max-width: 100%;overflow: auto;}#sk-e1653627-6f26-4d14-8234-03d5b5aea487 input.sk-toggleable__control:checked~label.sk-toggleable__label-arrow:before {content: \"▾\";}#sk-e1653627-6f26-4d14-8234-03d5b5aea487 div.sk-estimator input.sk-toggleable__control:checked~label.sk-toggleable__label {background-color: #d4ebff;}#sk-e1653627-6f26-4d14-8234-03d5b5aea487 div.sk-label input.sk-toggleable__control:checked~label.sk-toggleable__label {background-color: #d4ebff;}#sk-e1653627-6f26-4d14-8234-03d5b5aea487 input.sk-hidden--visually {border: 0;clip: rect(1px 1px 1px 1px);clip: rect(1px, 1px, 1px, 1px);height: 1px;margin: -1px;overflow: hidden;padding: 0;position: absolute;width: 1px;}#sk-e1653627-6f26-4d14-8234-03d5b5aea487 div.sk-estimator {font-family: monospace;background-color: #f0f8ff;border: 1px dotted black;border-radius: 0.25em;box-sizing: border-box;margin-bottom: 0.5em;}#sk-e1653627-6f26-4d14-8234-03d5b5aea487 div.sk-estimator:hover {background-color: #d4ebff;}#sk-e1653627-6f26-4d14-8234-03d5b5aea487 div.sk-parallel-item::after {content: \"\";width: 100%;border-bottom: 1px solid gray;flex-grow: 1;}#sk-e1653627-6f26-4d14-8234-03d5b5aea487 div.sk-label:hover label.sk-toggleable__label {background-color: #d4ebff;}#sk-e1653627-6f26-4d14-8234-03d5b5aea487 div.sk-serial::before {content: \"\";position: absolute;border-left: 1px solid gray;box-sizing: border-box;top: 2em;bottom: 0;left: 50%;}#sk-e1653627-6f26-4d14-8234-03d5b5aea487 div.sk-serial {display: flex;flex-direction: column;align-items: center;background-color: white;padding-right: 0.2em;padding-left: 0.2em;}#sk-e1653627-6f26-4d14-8234-03d5b5aea487 div.sk-item {z-index: 1;}#sk-e1653627-6f26-4d14-8234-03d5b5aea487 div.sk-parallel {display: flex;align-items: stretch;justify-content: center;background-color: white;}#sk-e1653627-6f26-4d14-8234-03d5b5aea487 div.sk-parallel::before {content: \"\";position: absolute;border-left: 1px solid gray;box-sizing: border-box;top: 2em;bottom: 0;left: 50%;}#sk-e1653627-6f26-4d14-8234-03d5b5aea487 div.sk-parallel-item {display: flex;flex-direction: column;position: relative;background-color: white;}#sk-e1653627-6f26-4d14-8234-03d5b5aea487 div.sk-parallel-item:first-child::after {align-self: flex-end;width: 50%;}#sk-e1653627-6f26-4d14-8234-03d5b5aea487 div.sk-parallel-item:last-child::after {align-self: flex-start;width: 50%;}#sk-e1653627-6f26-4d14-8234-03d5b5aea487 div.sk-parallel-item:only-child::after {width: 0;}#sk-e1653627-6f26-4d14-8234-03d5b5aea487 div.sk-dashed-wrapped {border: 1px dashed gray;margin: 0 0.4em 0.5em 0.4em;box-sizing: border-box;padding-bottom: 0.4em;background-color: white;position: relative;}#sk-e1653627-6f26-4d14-8234-03d5b5aea487 div.sk-label label {font-family: monospace;font-weight: bold;background-color: white;display: inline-block;line-height: 1.2em;}#sk-e1653627-6f26-4d14-8234-03d5b5aea487 div.sk-label-container {position: relative;z-index: 2;text-align: center;}#sk-e1653627-6f26-4d14-8234-03d5b5aea487 div.sk-container {/* jupyter's `normalize.less` sets `[hidden] { display: none; }` but bootstrap.min.css set `[hidden] { display: none !important; }` so we also need the `!important` here to be able to override the default hidden behavior on the sphinx rendered scikit-learn.org. See: https://github.com/scikit-learn/scikit-learn/issues/21755 */display: inline-block !important;position: relative;}#sk-e1653627-6f26-4d14-8234-03d5b5aea487 div.sk-text-repr-fallback {display: none;}</style><div id=\"sk-e1653627-6f26-4d14-8234-03d5b5aea487\" class=\"sk-top-container\"><div class=\"sk-text-repr-fallback\"><pre>Pipeline(steps=[(&#x27;scaler&#x27;, StandardScaler()), (&#x27;PCA&#x27;, PCA(n_components=3)),\n",
       "                (&#x27;svc&#x27;, SVC())])</pre><b>Please rerun this cell to show the HTML repr or trust the notebook.</b></div><div class=\"sk-container\" hidden><div class=\"sk-item sk-dashed-wrapped\"><div class=\"sk-label-container\"><div class=\"sk-label sk-toggleable\"><input class=\"sk-toggleable__control sk-hidden--visually\" id=\"7ca3af7c-f8e8-46f6-9443-989bb304b9ff\" type=\"checkbox\" ><label for=\"7ca3af7c-f8e8-46f6-9443-989bb304b9ff\" class=\"sk-toggleable__label sk-toggleable__label-arrow\">Pipeline</label><div class=\"sk-toggleable__content\"><pre>Pipeline(steps=[(&#x27;scaler&#x27;, StandardScaler()), (&#x27;PCA&#x27;, PCA(n_components=3)),\n",
       "                (&#x27;svc&#x27;, SVC())])</pre></div></div></div><div class=\"sk-serial\"><div class=\"sk-item\"><div class=\"sk-estimator sk-toggleable\"><input class=\"sk-toggleable__control sk-hidden--visually\" id=\"328a79cf-f5d0-485f-8eff-356cb5727b05\" type=\"checkbox\" ><label for=\"328a79cf-f5d0-485f-8eff-356cb5727b05\" class=\"sk-toggleable__label sk-toggleable__label-arrow\">StandardScaler</label><div class=\"sk-toggleable__content\"><pre>StandardScaler()</pre></div></div></div><div class=\"sk-item\"><div class=\"sk-estimator sk-toggleable\"><input class=\"sk-toggleable__control sk-hidden--visually\" id=\"12e9a428-dda5-4617-853f-ebcdd6f0793a\" type=\"checkbox\" ><label for=\"12e9a428-dda5-4617-853f-ebcdd6f0793a\" class=\"sk-toggleable__label sk-toggleable__label-arrow\">PCA</label><div class=\"sk-toggleable__content\"><pre>PCA(n_components=3)</pre></div></div></div><div class=\"sk-item\"><div class=\"sk-estimator sk-toggleable\"><input class=\"sk-toggleable__control sk-hidden--visually\" id=\"2676e778-a295-4b15-ba4e-73dc2528827a\" type=\"checkbox\" ><label for=\"2676e778-a295-4b15-ba4e-73dc2528827a\" class=\"sk-toggleable__label sk-toggleable__label-arrow\">SVC</label><div class=\"sk-toggleable__content\"><pre>SVC()</pre></div></div></div></div></div></div></div>"
      ],
      "text/plain": [
       "Pipeline(steps=[('scaler', StandardScaler()), ('PCA', PCA(n_components=3)),\n",
       "                ('svc', SVC())])"
      ]
     },
     "execution_count": 19,
     "metadata": {},
     "output_type": "execute_result"
    }
   ],
   "source": [
    "pipe2.fit(X_train,y_train)"
   ]
  },
  {
   "cell_type": "code",
   "execution_count": 20,
   "id": "5158aa56",
   "metadata": {},
   "outputs": [
    {
     "data": {
      "text/plain": [
       "array([0, 0, 0, 0, 0, 0, 1, 1, 0, 1, 1, 0, 1, 1, 1, 1, 0, 1, 1, 0, 0, 0,\n",
       "       1, 0, 1, 0, 0, 1, 0, 1, 1, 0, 1, 1, 0, 1, 0, 0, 1, 0, 0, 0, 0, 0,\n",
       "       1, 0, 1, 0, 1, 0, 0, 1, 0, 0, 0, 1, 1, 0, 1, 1, 1, 1, 1, 1, 1, 0,\n",
       "       0, 1, 1, 0, 1, 1, 1, 1, 0, 0, 0, 1, 1, 1, 0, 0, 1, 0, 0, 0, 1, 0,\n",
       "       1, 1, 0, 1, 1, 0, 1, 0, 0, 1, 0, 0, 0, 1, 0, 0, 0, 0, 0, 1, 0, 1,\n",
       "       0, 1, 1, 1, 1, 0, 0, 0, 0, 1, 0, 1, 0, 1, 0, 0, 0, 1, 0, 0, 1, 0,\n",
       "       0, 0, 1, 0, 0, 0, 1, 0, 1, 0, 1, 0, 1, 0, 0, 1, 0, 0, 1, 0, 0, 1,\n",
       "       1, 1, 0, 0, 1, 1, 0, 0, 1, 0, 1, 1, 0, 0, 0, 0, 1, 1, 0, 0, 0, 0,\n",
       "       1, 1, 1, 0, 0, 1, 0, 0, 0, 0, 0, 0, 0, 1, 1, 1, 1, 0, 1, 1, 0, 0,\n",
       "       0, 1, 0, 0, 1, 0, 1, 1, 1, 0, 0, 0, 1, 0, 1, 1, 1, 0, 0, 1, 0, 0,\n",
       "       0, 1, 1, 1, 1, 0, 0, 0, 1, 1, 1, 0, 0, 1, 0, 1, 1, 1, 0, 0, 1, 0,\n",
       "       0, 1, 0, 0, 0, 0, 1, 1, 0, 1, 1, 1, 0, 1, 0, 1, 0, 1, 0, 0, 1, 1,\n",
       "       1, 1, 0, 1, 1, 0, 1, 0, 0, 0, 0, 0, 1, 1, 0, 0, 0, 0, 0, 1, 0, 0,\n",
       "       0, 0, 0, 1, 0, 1, 0, 0, 1, 1, 0, 0, 0, 0, 0, 0, 0, 0, 0, 1, 1, 1,\n",
       "       1, 0, 1, 1, 0, 1, 0, 1, 1, 1, 1, 0, 1, 0, 0, 1, 1, 1, 1, 0, 1, 0,\n",
       "       1, 0, 0, 0, 0, 1, 1, 0, 1, 1, 1, 0, 0, 0, 1, 0, 1, 0, 1, 0, 1, 0,\n",
       "       1, 1, 0, 1, 0, 1, 1, 0, 0, 1, 1, 0, 0, 0, 0, 1, 0, 0, 1, 0, 0, 0,\n",
       "       0, 0, 1, 0, 1, 0, 0, 0, 1, 1, 0, 1, 1, 1, 1, 0, 1, 1, 1, 0, 0, 1,\n",
       "       1, 1, 1, 0, 0, 1, 0, 1, 0, 1, 0, 1, 1, 0, 1, 1, 1, 0, 1, 1, 0, 1,\n",
       "       0, 0, 1, 1, 1, 1, 0, 1, 0, 0, 1, 1, 0, 0, 0, 1, 1, 1, 0, 1, 0, 0,\n",
       "       0, 0, 0, 0, 1, 0, 0, 1, 0, 1, 1, 1, 0, 0, 0, 1, 1, 0, 0, 1, 0, 1,\n",
       "       0, 1, 1, 0, 1, 1, 1, 1, 1, 1, 1, 1, 0, 0, 0, 1, 1, 0, 0, 1, 1, 0,\n",
       "       0, 0, 0, 1, 0, 0, 0, 0, 0, 0, 0, 0, 1, 0, 0, 1, 0, 0, 0, 1, 1, 0,\n",
       "       0, 0, 1, 0, 1, 0, 1, 0, 1, 0, 1, 1, 1, 1, 1, 1, 1, 1, 1, 0, 0, 1,\n",
       "       1, 1, 1, 1, 1, 1, 1, 1, 0, 1, 1, 0, 0, 1, 1, 1, 1, 1, 0, 0, 0, 1,\n",
       "       0, 0, 0, 1, 0, 1, 1, 0, 1, 0, 0, 1, 0, 1, 0, 0, 1, 1, 0, 0, 1, 1,\n",
       "       0, 0, 0, 0, 1, 0, 0, 0, 0, 0, 0, 0, 1, 0, 0, 0, 0, 0, 0, 0, 0, 1,\n",
       "       1, 1, 1, 0, 0, 1, 1, 0, 1, 0, 1, 1, 1, 1, 1, 0, 1, 1, 1, 1, 0, 0,\n",
       "       0, 0, 0, 0, 1, 0, 0, 0, 0, 1, 0, 0, 1, 1, 0, 0, 0, 0, 0, 1, 1, 1,\n",
       "       0, 0, 0, 1, 0, 1, 0, 1, 0, 0, 1, 0, 0, 1, 1, 0, 0, 0, 1, 0, 1, 0])"
      ]
     },
     "execution_count": 20,
     "metadata": {},
     "output_type": "execute_result"
    }
   ],
   "source": [
    "pipe2.predict(X_test)"
   ]
  },
  {
   "cell_type": "code",
   "execution_count": 29,
   "id": "88eaa8dd",
   "metadata": {},
   "outputs": [],
   "source": [
    "from sklearn.impute import SimpleImputer\n",
    "import numpy as np\n",
    "from sklearn.preprocessing import OneHotEncoder"
   ]
  },
  {
   "cell_type": "code",
   "execution_count": 25,
   "id": "75b85f5c",
   "metadata": {},
   "outputs": [],
   "source": [
    "numerical_process = Pipeline([('immutaton_mean',SimpleImputer(missing_values=np.nan,strategy='mean')),\n",
    "                             ('scaler',StandardScaler())])"
   ]
  },
  {
   "cell_type": "code",
   "execution_count": 26,
   "id": "c52d963f",
   "metadata": {},
   "outputs": [
    {
     "data": {
      "text/html": [
       "<style>#sk-7be34245-c079-45ce-94ad-098e409676fb {color: black;background-color: white;}#sk-7be34245-c079-45ce-94ad-098e409676fb pre{padding: 0;}#sk-7be34245-c079-45ce-94ad-098e409676fb div.sk-toggleable {background-color: white;}#sk-7be34245-c079-45ce-94ad-098e409676fb label.sk-toggleable__label {cursor: pointer;display: block;width: 100%;margin-bottom: 0;padding: 0.3em;box-sizing: border-box;text-align: center;}#sk-7be34245-c079-45ce-94ad-098e409676fb label.sk-toggleable__label-arrow:before {content: \"▸\";float: left;margin-right: 0.25em;color: #696969;}#sk-7be34245-c079-45ce-94ad-098e409676fb label.sk-toggleable__label-arrow:hover:before {color: black;}#sk-7be34245-c079-45ce-94ad-098e409676fb div.sk-estimator:hover label.sk-toggleable__label-arrow:before {color: black;}#sk-7be34245-c079-45ce-94ad-098e409676fb div.sk-toggleable__content {max-height: 0;max-width: 0;overflow: hidden;text-align: left;background-color: #f0f8ff;}#sk-7be34245-c079-45ce-94ad-098e409676fb div.sk-toggleable__content pre {margin: 0.2em;color: black;border-radius: 0.25em;background-color: #f0f8ff;}#sk-7be34245-c079-45ce-94ad-098e409676fb input.sk-toggleable__control:checked~div.sk-toggleable__content {max-height: 200px;max-width: 100%;overflow: auto;}#sk-7be34245-c079-45ce-94ad-098e409676fb input.sk-toggleable__control:checked~label.sk-toggleable__label-arrow:before {content: \"▾\";}#sk-7be34245-c079-45ce-94ad-098e409676fb div.sk-estimator input.sk-toggleable__control:checked~label.sk-toggleable__label {background-color: #d4ebff;}#sk-7be34245-c079-45ce-94ad-098e409676fb div.sk-label input.sk-toggleable__control:checked~label.sk-toggleable__label {background-color: #d4ebff;}#sk-7be34245-c079-45ce-94ad-098e409676fb input.sk-hidden--visually {border: 0;clip: rect(1px 1px 1px 1px);clip: rect(1px, 1px, 1px, 1px);height: 1px;margin: -1px;overflow: hidden;padding: 0;position: absolute;width: 1px;}#sk-7be34245-c079-45ce-94ad-098e409676fb div.sk-estimator {font-family: monospace;background-color: #f0f8ff;border: 1px dotted black;border-radius: 0.25em;box-sizing: border-box;margin-bottom: 0.5em;}#sk-7be34245-c079-45ce-94ad-098e409676fb div.sk-estimator:hover {background-color: #d4ebff;}#sk-7be34245-c079-45ce-94ad-098e409676fb div.sk-parallel-item::after {content: \"\";width: 100%;border-bottom: 1px solid gray;flex-grow: 1;}#sk-7be34245-c079-45ce-94ad-098e409676fb div.sk-label:hover label.sk-toggleable__label {background-color: #d4ebff;}#sk-7be34245-c079-45ce-94ad-098e409676fb div.sk-serial::before {content: \"\";position: absolute;border-left: 1px solid gray;box-sizing: border-box;top: 2em;bottom: 0;left: 50%;}#sk-7be34245-c079-45ce-94ad-098e409676fb div.sk-serial {display: flex;flex-direction: column;align-items: center;background-color: white;padding-right: 0.2em;padding-left: 0.2em;}#sk-7be34245-c079-45ce-94ad-098e409676fb div.sk-item {z-index: 1;}#sk-7be34245-c079-45ce-94ad-098e409676fb div.sk-parallel {display: flex;align-items: stretch;justify-content: center;background-color: white;}#sk-7be34245-c079-45ce-94ad-098e409676fb div.sk-parallel::before {content: \"\";position: absolute;border-left: 1px solid gray;box-sizing: border-box;top: 2em;bottom: 0;left: 50%;}#sk-7be34245-c079-45ce-94ad-098e409676fb div.sk-parallel-item {display: flex;flex-direction: column;position: relative;background-color: white;}#sk-7be34245-c079-45ce-94ad-098e409676fb div.sk-parallel-item:first-child::after {align-self: flex-end;width: 50%;}#sk-7be34245-c079-45ce-94ad-098e409676fb div.sk-parallel-item:last-child::after {align-self: flex-start;width: 50%;}#sk-7be34245-c079-45ce-94ad-098e409676fb div.sk-parallel-item:only-child::after {width: 0;}#sk-7be34245-c079-45ce-94ad-098e409676fb div.sk-dashed-wrapped {border: 1px dashed gray;margin: 0 0.4em 0.5em 0.4em;box-sizing: border-box;padding-bottom: 0.4em;background-color: white;position: relative;}#sk-7be34245-c079-45ce-94ad-098e409676fb div.sk-label label {font-family: monospace;font-weight: bold;background-color: white;display: inline-block;line-height: 1.2em;}#sk-7be34245-c079-45ce-94ad-098e409676fb div.sk-label-container {position: relative;z-index: 2;text-align: center;}#sk-7be34245-c079-45ce-94ad-098e409676fb div.sk-container {/* jupyter's `normalize.less` sets `[hidden] { display: none; }` but bootstrap.min.css set `[hidden] { display: none !important; }` so we also need the `!important` here to be able to override the default hidden behavior on the sphinx rendered scikit-learn.org. See: https://github.com/scikit-learn/scikit-learn/issues/21755 */display: inline-block !important;position: relative;}#sk-7be34245-c079-45ce-94ad-098e409676fb div.sk-text-repr-fallback {display: none;}</style><div id=\"sk-7be34245-c079-45ce-94ad-098e409676fb\" class=\"sk-top-container\"><div class=\"sk-text-repr-fallback\"><pre>Pipeline(steps=[(&#x27;immutaton_mean&#x27;, SimpleImputer()),\n",
       "                (&#x27;scaler&#x27;, StandardScaler())])</pre><b>Please rerun this cell to show the HTML repr or trust the notebook.</b></div><div class=\"sk-container\" hidden><div class=\"sk-item sk-dashed-wrapped\"><div class=\"sk-label-container\"><div class=\"sk-label sk-toggleable\"><input class=\"sk-toggleable__control sk-hidden--visually\" id=\"ac2f711b-420c-46cb-99e4-7d685a868bf3\" type=\"checkbox\" ><label for=\"ac2f711b-420c-46cb-99e4-7d685a868bf3\" class=\"sk-toggleable__label sk-toggleable__label-arrow\">Pipeline</label><div class=\"sk-toggleable__content\"><pre>Pipeline(steps=[(&#x27;immutaton_mean&#x27;, SimpleImputer()),\n",
       "                (&#x27;scaler&#x27;, StandardScaler())])</pre></div></div></div><div class=\"sk-serial\"><div class=\"sk-item\"><div class=\"sk-estimator sk-toggleable\"><input class=\"sk-toggleable__control sk-hidden--visually\" id=\"40f1c5b8-752a-4751-a53e-40920fdfc57e\" type=\"checkbox\" ><label for=\"40f1c5b8-752a-4751-a53e-40920fdfc57e\" class=\"sk-toggleable__label sk-toggleable__label-arrow\">SimpleImputer</label><div class=\"sk-toggleable__content\"><pre>SimpleImputer()</pre></div></div></div><div class=\"sk-item\"><div class=\"sk-estimator sk-toggleable\"><input class=\"sk-toggleable__control sk-hidden--visually\" id=\"f82aad94-c93b-42e6-9983-00cefe8433f4\" type=\"checkbox\" ><label for=\"f82aad94-c93b-42e6-9983-00cefe8433f4\" class=\"sk-toggleable__label sk-toggleable__label-arrow\">StandardScaler</label><div class=\"sk-toggleable__content\"><pre>StandardScaler()</pre></div></div></div></div></div></div></div>"
      ],
      "text/plain": [
       "Pipeline(steps=[('immutaton_mean', SimpleImputer()),\n",
       "                ('scaler', StandardScaler())])"
      ]
     },
     "execution_count": 26,
     "metadata": {},
     "output_type": "execute_result"
    }
   ],
   "source": [
    "numerical_process"
   ]
  },
  {
   "cell_type": "code",
   "execution_count": 30,
   "id": "8797d090",
   "metadata": {},
   "outputs": [],
   "source": [
    "categorical_process = Pipeline([('immutaton_mean',SimpleImputer(missing_values=np.nan,strategy='mean')),\n",
    "                               ('one_hot',OneHotEncoder(handle_unknown='ignore',))])"
   ]
  },
  {
   "cell_type": "code",
   "execution_count": 31,
   "id": "aed77065",
   "metadata": {},
   "outputs": [
    {
     "data": {
      "text/html": [
       "<style>#sk-aa341c5b-627b-414c-8e0f-625dbbeb50db {color: black;background-color: white;}#sk-aa341c5b-627b-414c-8e0f-625dbbeb50db pre{padding: 0;}#sk-aa341c5b-627b-414c-8e0f-625dbbeb50db div.sk-toggleable {background-color: white;}#sk-aa341c5b-627b-414c-8e0f-625dbbeb50db label.sk-toggleable__label {cursor: pointer;display: block;width: 100%;margin-bottom: 0;padding: 0.3em;box-sizing: border-box;text-align: center;}#sk-aa341c5b-627b-414c-8e0f-625dbbeb50db label.sk-toggleable__label-arrow:before {content: \"▸\";float: left;margin-right: 0.25em;color: #696969;}#sk-aa341c5b-627b-414c-8e0f-625dbbeb50db label.sk-toggleable__label-arrow:hover:before {color: black;}#sk-aa341c5b-627b-414c-8e0f-625dbbeb50db div.sk-estimator:hover label.sk-toggleable__label-arrow:before {color: black;}#sk-aa341c5b-627b-414c-8e0f-625dbbeb50db div.sk-toggleable__content {max-height: 0;max-width: 0;overflow: hidden;text-align: left;background-color: #f0f8ff;}#sk-aa341c5b-627b-414c-8e0f-625dbbeb50db div.sk-toggleable__content pre {margin: 0.2em;color: black;border-radius: 0.25em;background-color: #f0f8ff;}#sk-aa341c5b-627b-414c-8e0f-625dbbeb50db input.sk-toggleable__control:checked~div.sk-toggleable__content {max-height: 200px;max-width: 100%;overflow: auto;}#sk-aa341c5b-627b-414c-8e0f-625dbbeb50db input.sk-toggleable__control:checked~label.sk-toggleable__label-arrow:before {content: \"▾\";}#sk-aa341c5b-627b-414c-8e0f-625dbbeb50db div.sk-estimator input.sk-toggleable__control:checked~label.sk-toggleable__label {background-color: #d4ebff;}#sk-aa341c5b-627b-414c-8e0f-625dbbeb50db div.sk-label input.sk-toggleable__control:checked~label.sk-toggleable__label {background-color: #d4ebff;}#sk-aa341c5b-627b-414c-8e0f-625dbbeb50db input.sk-hidden--visually {border: 0;clip: rect(1px 1px 1px 1px);clip: rect(1px, 1px, 1px, 1px);height: 1px;margin: -1px;overflow: hidden;padding: 0;position: absolute;width: 1px;}#sk-aa341c5b-627b-414c-8e0f-625dbbeb50db div.sk-estimator {font-family: monospace;background-color: #f0f8ff;border: 1px dotted black;border-radius: 0.25em;box-sizing: border-box;margin-bottom: 0.5em;}#sk-aa341c5b-627b-414c-8e0f-625dbbeb50db div.sk-estimator:hover {background-color: #d4ebff;}#sk-aa341c5b-627b-414c-8e0f-625dbbeb50db div.sk-parallel-item::after {content: \"\";width: 100%;border-bottom: 1px solid gray;flex-grow: 1;}#sk-aa341c5b-627b-414c-8e0f-625dbbeb50db div.sk-label:hover label.sk-toggleable__label {background-color: #d4ebff;}#sk-aa341c5b-627b-414c-8e0f-625dbbeb50db div.sk-serial::before {content: \"\";position: absolute;border-left: 1px solid gray;box-sizing: border-box;top: 2em;bottom: 0;left: 50%;}#sk-aa341c5b-627b-414c-8e0f-625dbbeb50db div.sk-serial {display: flex;flex-direction: column;align-items: center;background-color: white;padding-right: 0.2em;padding-left: 0.2em;}#sk-aa341c5b-627b-414c-8e0f-625dbbeb50db div.sk-item {z-index: 1;}#sk-aa341c5b-627b-414c-8e0f-625dbbeb50db div.sk-parallel {display: flex;align-items: stretch;justify-content: center;background-color: white;}#sk-aa341c5b-627b-414c-8e0f-625dbbeb50db div.sk-parallel::before {content: \"\";position: absolute;border-left: 1px solid gray;box-sizing: border-box;top: 2em;bottom: 0;left: 50%;}#sk-aa341c5b-627b-414c-8e0f-625dbbeb50db div.sk-parallel-item {display: flex;flex-direction: column;position: relative;background-color: white;}#sk-aa341c5b-627b-414c-8e0f-625dbbeb50db div.sk-parallel-item:first-child::after {align-self: flex-end;width: 50%;}#sk-aa341c5b-627b-414c-8e0f-625dbbeb50db div.sk-parallel-item:last-child::after {align-self: flex-start;width: 50%;}#sk-aa341c5b-627b-414c-8e0f-625dbbeb50db div.sk-parallel-item:only-child::after {width: 0;}#sk-aa341c5b-627b-414c-8e0f-625dbbeb50db div.sk-dashed-wrapped {border: 1px dashed gray;margin: 0 0.4em 0.5em 0.4em;box-sizing: border-box;padding-bottom: 0.4em;background-color: white;position: relative;}#sk-aa341c5b-627b-414c-8e0f-625dbbeb50db div.sk-label label {font-family: monospace;font-weight: bold;background-color: white;display: inline-block;line-height: 1.2em;}#sk-aa341c5b-627b-414c-8e0f-625dbbeb50db div.sk-label-container {position: relative;z-index: 2;text-align: center;}#sk-aa341c5b-627b-414c-8e0f-625dbbeb50db div.sk-container {/* jupyter's `normalize.less` sets `[hidden] { display: none; }` but bootstrap.min.css set `[hidden] { display: none !important; }` so we also need the `!important` here to be able to override the default hidden behavior on the sphinx rendered scikit-learn.org. See: https://github.com/scikit-learn/scikit-learn/issues/21755 */display: inline-block !important;position: relative;}#sk-aa341c5b-627b-414c-8e0f-625dbbeb50db div.sk-text-repr-fallback {display: none;}</style><div id=\"sk-aa341c5b-627b-414c-8e0f-625dbbeb50db\" class=\"sk-top-container\"><div class=\"sk-text-repr-fallback\"><pre>Pipeline(steps=[(&#x27;immutaton_mean&#x27;, SimpleImputer()),\n",
       "                (&#x27;one_hot&#x27;, OneHotEncoder(handle_unknown=&#x27;ignore&#x27;))])</pre><b>Please rerun this cell to show the HTML repr or trust the notebook.</b></div><div class=\"sk-container\" hidden><div class=\"sk-item sk-dashed-wrapped\"><div class=\"sk-label-container\"><div class=\"sk-label sk-toggleable\"><input class=\"sk-toggleable__control sk-hidden--visually\" id=\"3effc827-669c-44b2-8269-040eb3d414c7\" type=\"checkbox\" ><label for=\"3effc827-669c-44b2-8269-040eb3d414c7\" class=\"sk-toggleable__label sk-toggleable__label-arrow\">Pipeline</label><div class=\"sk-toggleable__content\"><pre>Pipeline(steps=[(&#x27;immutaton_mean&#x27;, SimpleImputer()),\n",
       "                (&#x27;one_hot&#x27;, OneHotEncoder(handle_unknown=&#x27;ignore&#x27;))])</pre></div></div></div><div class=\"sk-serial\"><div class=\"sk-item\"><div class=\"sk-estimator sk-toggleable\"><input class=\"sk-toggleable__control sk-hidden--visually\" id=\"f53e81dc-67a4-4eaf-b9ae-8f7c6d25967c\" type=\"checkbox\" ><label for=\"f53e81dc-67a4-4eaf-b9ae-8f7c6d25967c\" class=\"sk-toggleable__label sk-toggleable__label-arrow\">SimpleImputer</label><div class=\"sk-toggleable__content\"><pre>SimpleImputer()</pre></div></div></div><div class=\"sk-item\"><div class=\"sk-estimator sk-toggleable\"><input class=\"sk-toggleable__control sk-hidden--visually\" id=\"af0940bc-11b5-4e05-9125-cf957ad0b656\" type=\"checkbox\" ><label for=\"af0940bc-11b5-4e05-9125-cf957ad0b656\" class=\"sk-toggleable__label sk-toggleable__label-arrow\">OneHotEncoder</label><div class=\"sk-toggleable__content\"><pre>OneHotEncoder(handle_unknown=&#x27;ignore&#x27;)</pre></div></div></div></div></div></div></div>"
      ],
      "text/plain": [
       "Pipeline(steps=[('immutaton_mean', SimpleImputer()),\n",
       "                ('one_hot', OneHotEncoder(handle_unknown='ignore'))])"
      ]
     },
     "execution_count": 31,
     "metadata": {},
     "output_type": "execute_result"
    }
   ],
   "source": [
    "categorical_process"
   ]
  },
  {
   "cell_type": "code",
   "execution_count": 32,
   "id": "7cfde6b4",
   "metadata": {},
   "outputs": [],
   "source": [
    "from sklearn.compose import ColumnTransformer"
   ]
  },
  {
   "cell_type": "code",
   "execution_count": 34,
   "id": "0afa15ba",
   "metadata": {},
   "outputs": [],
   "source": [
    "preprocessor = ColumnTransformer([('catigorical',categorical_process,['gender','city']),\n",
    "                  ('numerical',numerical_process,['age','height'])]\n",
    ")"
   ]
  },
  {
   "cell_type": "code",
   "execution_count": 35,
   "id": "2ed75ec9",
   "metadata": {},
   "outputs": [
    {
     "data": {
      "text/html": [
       "<style>#sk-f98199e9-5f0c-4031-a5b4-c2bde1b08702 {color: black;background-color: white;}#sk-f98199e9-5f0c-4031-a5b4-c2bde1b08702 pre{padding: 0;}#sk-f98199e9-5f0c-4031-a5b4-c2bde1b08702 div.sk-toggleable {background-color: white;}#sk-f98199e9-5f0c-4031-a5b4-c2bde1b08702 label.sk-toggleable__label {cursor: pointer;display: block;width: 100%;margin-bottom: 0;padding: 0.3em;box-sizing: border-box;text-align: center;}#sk-f98199e9-5f0c-4031-a5b4-c2bde1b08702 label.sk-toggleable__label-arrow:before {content: \"▸\";float: left;margin-right: 0.25em;color: #696969;}#sk-f98199e9-5f0c-4031-a5b4-c2bde1b08702 label.sk-toggleable__label-arrow:hover:before {color: black;}#sk-f98199e9-5f0c-4031-a5b4-c2bde1b08702 div.sk-estimator:hover label.sk-toggleable__label-arrow:before {color: black;}#sk-f98199e9-5f0c-4031-a5b4-c2bde1b08702 div.sk-toggleable__content {max-height: 0;max-width: 0;overflow: hidden;text-align: left;background-color: #f0f8ff;}#sk-f98199e9-5f0c-4031-a5b4-c2bde1b08702 div.sk-toggleable__content pre {margin: 0.2em;color: black;border-radius: 0.25em;background-color: #f0f8ff;}#sk-f98199e9-5f0c-4031-a5b4-c2bde1b08702 input.sk-toggleable__control:checked~div.sk-toggleable__content {max-height: 200px;max-width: 100%;overflow: auto;}#sk-f98199e9-5f0c-4031-a5b4-c2bde1b08702 input.sk-toggleable__control:checked~label.sk-toggleable__label-arrow:before {content: \"▾\";}#sk-f98199e9-5f0c-4031-a5b4-c2bde1b08702 div.sk-estimator input.sk-toggleable__control:checked~label.sk-toggleable__label {background-color: #d4ebff;}#sk-f98199e9-5f0c-4031-a5b4-c2bde1b08702 div.sk-label input.sk-toggleable__control:checked~label.sk-toggleable__label {background-color: #d4ebff;}#sk-f98199e9-5f0c-4031-a5b4-c2bde1b08702 input.sk-hidden--visually {border: 0;clip: rect(1px 1px 1px 1px);clip: rect(1px, 1px, 1px, 1px);height: 1px;margin: -1px;overflow: hidden;padding: 0;position: absolute;width: 1px;}#sk-f98199e9-5f0c-4031-a5b4-c2bde1b08702 div.sk-estimator {font-family: monospace;background-color: #f0f8ff;border: 1px dotted black;border-radius: 0.25em;box-sizing: border-box;margin-bottom: 0.5em;}#sk-f98199e9-5f0c-4031-a5b4-c2bde1b08702 div.sk-estimator:hover {background-color: #d4ebff;}#sk-f98199e9-5f0c-4031-a5b4-c2bde1b08702 div.sk-parallel-item::after {content: \"\";width: 100%;border-bottom: 1px solid gray;flex-grow: 1;}#sk-f98199e9-5f0c-4031-a5b4-c2bde1b08702 div.sk-label:hover label.sk-toggleable__label {background-color: #d4ebff;}#sk-f98199e9-5f0c-4031-a5b4-c2bde1b08702 div.sk-serial::before {content: \"\";position: absolute;border-left: 1px solid gray;box-sizing: border-box;top: 2em;bottom: 0;left: 50%;}#sk-f98199e9-5f0c-4031-a5b4-c2bde1b08702 div.sk-serial {display: flex;flex-direction: column;align-items: center;background-color: white;padding-right: 0.2em;padding-left: 0.2em;}#sk-f98199e9-5f0c-4031-a5b4-c2bde1b08702 div.sk-item {z-index: 1;}#sk-f98199e9-5f0c-4031-a5b4-c2bde1b08702 div.sk-parallel {display: flex;align-items: stretch;justify-content: center;background-color: white;}#sk-f98199e9-5f0c-4031-a5b4-c2bde1b08702 div.sk-parallel::before {content: \"\";position: absolute;border-left: 1px solid gray;box-sizing: border-box;top: 2em;bottom: 0;left: 50%;}#sk-f98199e9-5f0c-4031-a5b4-c2bde1b08702 div.sk-parallel-item {display: flex;flex-direction: column;position: relative;background-color: white;}#sk-f98199e9-5f0c-4031-a5b4-c2bde1b08702 div.sk-parallel-item:first-child::after {align-self: flex-end;width: 50%;}#sk-f98199e9-5f0c-4031-a5b4-c2bde1b08702 div.sk-parallel-item:last-child::after {align-self: flex-start;width: 50%;}#sk-f98199e9-5f0c-4031-a5b4-c2bde1b08702 div.sk-parallel-item:only-child::after {width: 0;}#sk-f98199e9-5f0c-4031-a5b4-c2bde1b08702 div.sk-dashed-wrapped {border: 1px dashed gray;margin: 0 0.4em 0.5em 0.4em;box-sizing: border-box;padding-bottom: 0.4em;background-color: white;position: relative;}#sk-f98199e9-5f0c-4031-a5b4-c2bde1b08702 div.sk-label label {font-family: monospace;font-weight: bold;background-color: white;display: inline-block;line-height: 1.2em;}#sk-f98199e9-5f0c-4031-a5b4-c2bde1b08702 div.sk-label-container {position: relative;z-index: 2;text-align: center;}#sk-f98199e9-5f0c-4031-a5b4-c2bde1b08702 div.sk-container {/* jupyter's `normalize.less` sets `[hidden] { display: none; }` but bootstrap.min.css set `[hidden] { display: none !important; }` so we also need the `!important` here to be able to override the default hidden behavior on the sphinx rendered scikit-learn.org. See: https://github.com/scikit-learn/scikit-learn/issues/21755 */display: inline-block !important;position: relative;}#sk-f98199e9-5f0c-4031-a5b4-c2bde1b08702 div.sk-text-repr-fallback {display: none;}</style><div id=\"sk-f98199e9-5f0c-4031-a5b4-c2bde1b08702\" class=\"sk-top-container\"><div class=\"sk-text-repr-fallback\"><pre>ColumnTransformer(transformers=[(&#x27;catigorical&#x27;,\n",
       "                                 Pipeline(steps=[(&#x27;immutaton_mean&#x27;,\n",
       "                                                  SimpleImputer()),\n",
       "                                                 (&#x27;one_hot&#x27;,\n",
       "                                                  OneHotEncoder(handle_unknown=&#x27;ignore&#x27;))]),\n",
       "                                 [&#x27;gender&#x27;, &#x27;city&#x27;]),\n",
       "                                (&#x27;numerical&#x27;,\n",
       "                                 Pipeline(steps=[(&#x27;immutaton_mean&#x27;,\n",
       "                                                  SimpleImputer()),\n",
       "                                                 (&#x27;scaler&#x27;, StandardScaler())]),\n",
       "                                 [&#x27;age&#x27;, &#x27;height&#x27;])])</pre><b>Please rerun this cell to show the HTML repr or trust the notebook.</b></div><div class=\"sk-container\" hidden><div class=\"sk-item sk-dashed-wrapped\"><div class=\"sk-label-container\"><div class=\"sk-label sk-toggleable\"><input class=\"sk-toggleable__control sk-hidden--visually\" id=\"78e693b0-4245-425e-9a61-9431f3dba8f4\" type=\"checkbox\" ><label for=\"78e693b0-4245-425e-9a61-9431f3dba8f4\" class=\"sk-toggleable__label sk-toggleable__label-arrow\">ColumnTransformer</label><div class=\"sk-toggleable__content\"><pre>ColumnTransformer(transformers=[(&#x27;catigorical&#x27;,\n",
       "                                 Pipeline(steps=[(&#x27;immutaton_mean&#x27;,\n",
       "                                                  SimpleImputer()),\n",
       "                                                 (&#x27;one_hot&#x27;,\n",
       "                                                  OneHotEncoder(handle_unknown=&#x27;ignore&#x27;))]),\n",
       "                                 [&#x27;gender&#x27;, &#x27;city&#x27;]),\n",
       "                                (&#x27;numerical&#x27;,\n",
       "                                 Pipeline(steps=[(&#x27;immutaton_mean&#x27;,\n",
       "                                                  SimpleImputer()),\n",
       "                                                 (&#x27;scaler&#x27;, StandardScaler())]),\n",
       "                                 [&#x27;age&#x27;, &#x27;height&#x27;])])</pre></div></div></div><div class=\"sk-parallel\"><div class=\"sk-parallel-item\"><div class=\"sk-item\"><div class=\"sk-label-container\"><div class=\"sk-label sk-toggleable\"><input class=\"sk-toggleable__control sk-hidden--visually\" id=\"09ee1d07-47b7-40f9-a547-8ed3b00dda32\" type=\"checkbox\" ><label for=\"09ee1d07-47b7-40f9-a547-8ed3b00dda32\" class=\"sk-toggleable__label sk-toggleable__label-arrow\">catigorical</label><div class=\"sk-toggleable__content\"><pre>[&#x27;gender&#x27;, &#x27;city&#x27;]</pre></div></div></div><div class=\"sk-serial\"><div class=\"sk-item\"><div class=\"sk-serial\"><div class=\"sk-item\"><div class=\"sk-estimator sk-toggleable\"><input class=\"sk-toggleable__control sk-hidden--visually\" id=\"8567ce7e-c75d-4369-81a4-7e22a63acc39\" type=\"checkbox\" ><label for=\"8567ce7e-c75d-4369-81a4-7e22a63acc39\" class=\"sk-toggleable__label sk-toggleable__label-arrow\">SimpleImputer</label><div class=\"sk-toggleable__content\"><pre>SimpleImputer()</pre></div></div></div><div class=\"sk-item\"><div class=\"sk-estimator sk-toggleable\"><input class=\"sk-toggleable__control sk-hidden--visually\" id=\"119b44a4-dd71-4536-bc01-9b17e6348086\" type=\"checkbox\" ><label for=\"119b44a4-dd71-4536-bc01-9b17e6348086\" class=\"sk-toggleable__label sk-toggleable__label-arrow\">OneHotEncoder</label><div class=\"sk-toggleable__content\"><pre>OneHotEncoder(handle_unknown=&#x27;ignore&#x27;)</pre></div></div></div></div></div></div></div></div><div class=\"sk-parallel-item\"><div class=\"sk-item\"><div class=\"sk-label-container\"><div class=\"sk-label sk-toggleable\"><input class=\"sk-toggleable__control sk-hidden--visually\" id=\"a4a63238-e05f-4dc3-99b3-6a298a8af21a\" type=\"checkbox\" ><label for=\"a4a63238-e05f-4dc3-99b3-6a298a8af21a\" class=\"sk-toggleable__label sk-toggleable__label-arrow\">numerical</label><div class=\"sk-toggleable__content\"><pre>[&#x27;age&#x27;, &#x27;height&#x27;]</pre></div></div></div><div class=\"sk-serial\"><div class=\"sk-item\"><div class=\"sk-serial\"><div class=\"sk-item\"><div class=\"sk-estimator sk-toggleable\"><input class=\"sk-toggleable__control sk-hidden--visually\" id=\"aa6e5910-d507-43c7-957b-1199846a1842\" type=\"checkbox\" ><label for=\"aa6e5910-d507-43c7-957b-1199846a1842\" class=\"sk-toggleable__label sk-toggleable__label-arrow\">SimpleImputer</label><div class=\"sk-toggleable__content\"><pre>SimpleImputer()</pre></div></div></div><div class=\"sk-item\"><div class=\"sk-estimator sk-toggleable\"><input class=\"sk-toggleable__control sk-hidden--visually\" id=\"20fea21b-23ec-410b-8889-a502b06efcdf\" type=\"checkbox\" ><label for=\"20fea21b-23ec-410b-8889-a502b06efcdf\" class=\"sk-toggleable__label sk-toggleable__label-arrow\">StandardScaler</label><div class=\"sk-toggleable__content\"><pre>StandardScaler()</pre></div></div></div></div></div></div></div></div></div></div></div></div>"
      ],
      "text/plain": [
       "ColumnTransformer(transformers=[('catigorical',\n",
       "                                 Pipeline(steps=[('immutaton_mean',\n",
       "                                                  SimpleImputer()),\n",
       "                                                 ('one_hot',\n",
       "                                                  OneHotEncoder(handle_unknown='ignore'))]),\n",
       "                                 ['gender', 'city']),\n",
       "                                ('numerical',\n",
       "                                 Pipeline(steps=[('immutaton_mean',\n",
       "                                                  SimpleImputer()),\n",
       "                                                 ('scaler', StandardScaler())]),\n",
       "                                 ['age', 'height'])])"
      ]
     },
     "execution_count": 35,
     "metadata": {},
     "output_type": "execute_result"
    }
   ],
   "source": [
    "preprocessor"
   ]
  },
  {
   "cell_type": "code",
   "execution_count": 36,
   "id": "668aa923",
   "metadata": {},
   "outputs": [],
   "source": [
    "from sklearn.pipeline import make_pipeline"
   ]
  },
  {
   "cell_type": "code",
   "execution_count": 37,
   "id": "6c50e76e",
   "metadata": {},
   "outputs": [],
   "source": [
    "pipe = make_pipeline(preprocessor,LogisticRegression())"
   ]
  },
  {
   "cell_type": "code",
   "execution_count": 38,
   "id": "bd698bb3",
   "metadata": {},
   "outputs": [
    {
     "data": {
      "text/html": [
       "<style>#sk-c5771dc8-9c28-471c-858b-d03fa0cc7c64 {color: black;background-color: white;}#sk-c5771dc8-9c28-471c-858b-d03fa0cc7c64 pre{padding: 0;}#sk-c5771dc8-9c28-471c-858b-d03fa0cc7c64 div.sk-toggleable {background-color: white;}#sk-c5771dc8-9c28-471c-858b-d03fa0cc7c64 label.sk-toggleable__label {cursor: pointer;display: block;width: 100%;margin-bottom: 0;padding: 0.3em;box-sizing: border-box;text-align: center;}#sk-c5771dc8-9c28-471c-858b-d03fa0cc7c64 label.sk-toggleable__label-arrow:before {content: \"▸\";float: left;margin-right: 0.25em;color: #696969;}#sk-c5771dc8-9c28-471c-858b-d03fa0cc7c64 label.sk-toggleable__label-arrow:hover:before {color: black;}#sk-c5771dc8-9c28-471c-858b-d03fa0cc7c64 div.sk-estimator:hover label.sk-toggleable__label-arrow:before {color: black;}#sk-c5771dc8-9c28-471c-858b-d03fa0cc7c64 div.sk-toggleable__content {max-height: 0;max-width: 0;overflow: hidden;text-align: left;background-color: #f0f8ff;}#sk-c5771dc8-9c28-471c-858b-d03fa0cc7c64 div.sk-toggleable__content pre {margin: 0.2em;color: black;border-radius: 0.25em;background-color: #f0f8ff;}#sk-c5771dc8-9c28-471c-858b-d03fa0cc7c64 input.sk-toggleable__control:checked~div.sk-toggleable__content {max-height: 200px;max-width: 100%;overflow: auto;}#sk-c5771dc8-9c28-471c-858b-d03fa0cc7c64 input.sk-toggleable__control:checked~label.sk-toggleable__label-arrow:before {content: \"▾\";}#sk-c5771dc8-9c28-471c-858b-d03fa0cc7c64 div.sk-estimator input.sk-toggleable__control:checked~label.sk-toggleable__label {background-color: #d4ebff;}#sk-c5771dc8-9c28-471c-858b-d03fa0cc7c64 div.sk-label input.sk-toggleable__control:checked~label.sk-toggleable__label {background-color: #d4ebff;}#sk-c5771dc8-9c28-471c-858b-d03fa0cc7c64 input.sk-hidden--visually {border: 0;clip: rect(1px 1px 1px 1px);clip: rect(1px, 1px, 1px, 1px);height: 1px;margin: -1px;overflow: hidden;padding: 0;position: absolute;width: 1px;}#sk-c5771dc8-9c28-471c-858b-d03fa0cc7c64 div.sk-estimator {font-family: monospace;background-color: #f0f8ff;border: 1px dotted black;border-radius: 0.25em;box-sizing: border-box;margin-bottom: 0.5em;}#sk-c5771dc8-9c28-471c-858b-d03fa0cc7c64 div.sk-estimator:hover {background-color: #d4ebff;}#sk-c5771dc8-9c28-471c-858b-d03fa0cc7c64 div.sk-parallel-item::after {content: \"\";width: 100%;border-bottom: 1px solid gray;flex-grow: 1;}#sk-c5771dc8-9c28-471c-858b-d03fa0cc7c64 div.sk-label:hover label.sk-toggleable__label {background-color: #d4ebff;}#sk-c5771dc8-9c28-471c-858b-d03fa0cc7c64 div.sk-serial::before {content: \"\";position: absolute;border-left: 1px solid gray;box-sizing: border-box;top: 2em;bottom: 0;left: 50%;}#sk-c5771dc8-9c28-471c-858b-d03fa0cc7c64 div.sk-serial {display: flex;flex-direction: column;align-items: center;background-color: white;padding-right: 0.2em;padding-left: 0.2em;}#sk-c5771dc8-9c28-471c-858b-d03fa0cc7c64 div.sk-item {z-index: 1;}#sk-c5771dc8-9c28-471c-858b-d03fa0cc7c64 div.sk-parallel {display: flex;align-items: stretch;justify-content: center;background-color: white;}#sk-c5771dc8-9c28-471c-858b-d03fa0cc7c64 div.sk-parallel::before {content: \"\";position: absolute;border-left: 1px solid gray;box-sizing: border-box;top: 2em;bottom: 0;left: 50%;}#sk-c5771dc8-9c28-471c-858b-d03fa0cc7c64 div.sk-parallel-item {display: flex;flex-direction: column;position: relative;background-color: white;}#sk-c5771dc8-9c28-471c-858b-d03fa0cc7c64 div.sk-parallel-item:first-child::after {align-self: flex-end;width: 50%;}#sk-c5771dc8-9c28-471c-858b-d03fa0cc7c64 div.sk-parallel-item:last-child::after {align-self: flex-start;width: 50%;}#sk-c5771dc8-9c28-471c-858b-d03fa0cc7c64 div.sk-parallel-item:only-child::after {width: 0;}#sk-c5771dc8-9c28-471c-858b-d03fa0cc7c64 div.sk-dashed-wrapped {border: 1px dashed gray;margin: 0 0.4em 0.5em 0.4em;box-sizing: border-box;padding-bottom: 0.4em;background-color: white;position: relative;}#sk-c5771dc8-9c28-471c-858b-d03fa0cc7c64 div.sk-label label {font-family: monospace;font-weight: bold;background-color: white;display: inline-block;line-height: 1.2em;}#sk-c5771dc8-9c28-471c-858b-d03fa0cc7c64 div.sk-label-container {position: relative;z-index: 2;text-align: center;}#sk-c5771dc8-9c28-471c-858b-d03fa0cc7c64 div.sk-container {/* jupyter's `normalize.less` sets `[hidden] { display: none; }` but bootstrap.min.css set `[hidden] { display: none !important; }` so we also need the `!important` here to be able to override the default hidden behavior on the sphinx rendered scikit-learn.org. See: https://github.com/scikit-learn/scikit-learn/issues/21755 */display: inline-block !important;position: relative;}#sk-c5771dc8-9c28-471c-858b-d03fa0cc7c64 div.sk-text-repr-fallback {display: none;}</style><div id=\"sk-c5771dc8-9c28-471c-858b-d03fa0cc7c64\" class=\"sk-top-container\"><div class=\"sk-text-repr-fallback\"><pre>Pipeline(steps=[(&#x27;columntransformer&#x27;,\n",
       "                 ColumnTransformer(transformers=[(&#x27;catigorical&#x27;,\n",
       "                                                  Pipeline(steps=[(&#x27;immutaton_mean&#x27;,\n",
       "                                                                   SimpleImputer()),\n",
       "                                                                  (&#x27;one_hot&#x27;,\n",
       "                                                                   OneHotEncoder(handle_unknown=&#x27;ignore&#x27;))]),\n",
       "                                                  [&#x27;gender&#x27;, &#x27;city&#x27;]),\n",
       "                                                 (&#x27;numerical&#x27;,\n",
       "                                                  Pipeline(steps=[(&#x27;immutaton_mean&#x27;,\n",
       "                                                                   SimpleImputer()),\n",
       "                                                                  (&#x27;scaler&#x27;,\n",
       "                                                                   StandardScaler())]),\n",
       "                                                  [&#x27;age&#x27;, &#x27;height&#x27;])])),\n",
       "                (&#x27;logisticregression&#x27;, LogisticRegression())])</pre><b>Please rerun this cell to show the HTML repr or trust the notebook.</b></div><div class=\"sk-container\" hidden><div class=\"sk-item sk-dashed-wrapped\"><div class=\"sk-label-container\"><div class=\"sk-label sk-toggleable\"><input class=\"sk-toggleable__control sk-hidden--visually\" id=\"74377e4e-4d19-499d-8352-6e2e6926cf38\" type=\"checkbox\" ><label for=\"74377e4e-4d19-499d-8352-6e2e6926cf38\" class=\"sk-toggleable__label sk-toggleable__label-arrow\">Pipeline</label><div class=\"sk-toggleable__content\"><pre>Pipeline(steps=[(&#x27;columntransformer&#x27;,\n",
       "                 ColumnTransformer(transformers=[(&#x27;catigorical&#x27;,\n",
       "                                                  Pipeline(steps=[(&#x27;immutaton_mean&#x27;,\n",
       "                                                                   SimpleImputer()),\n",
       "                                                                  (&#x27;one_hot&#x27;,\n",
       "                                                                   OneHotEncoder(handle_unknown=&#x27;ignore&#x27;))]),\n",
       "                                                  [&#x27;gender&#x27;, &#x27;city&#x27;]),\n",
       "                                                 (&#x27;numerical&#x27;,\n",
       "                                                  Pipeline(steps=[(&#x27;immutaton_mean&#x27;,\n",
       "                                                                   SimpleImputer()),\n",
       "                                                                  (&#x27;scaler&#x27;,\n",
       "                                                                   StandardScaler())]),\n",
       "                                                  [&#x27;age&#x27;, &#x27;height&#x27;])])),\n",
       "                (&#x27;logisticregression&#x27;, LogisticRegression())])</pre></div></div></div><div class=\"sk-serial\"><div class=\"sk-item sk-dashed-wrapped\"><div class=\"sk-label-container\"><div class=\"sk-label sk-toggleable\"><input class=\"sk-toggleable__control sk-hidden--visually\" id=\"8e9474ff-e2f8-46c0-a5b9-2ad1126cceb9\" type=\"checkbox\" ><label for=\"8e9474ff-e2f8-46c0-a5b9-2ad1126cceb9\" class=\"sk-toggleable__label sk-toggleable__label-arrow\">columntransformer: ColumnTransformer</label><div class=\"sk-toggleable__content\"><pre>ColumnTransformer(transformers=[(&#x27;catigorical&#x27;,\n",
       "                                 Pipeline(steps=[(&#x27;immutaton_mean&#x27;,\n",
       "                                                  SimpleImputer()),\n",
       "                                                 (&#x27;one_hot&#x27;,\n",
       "                                                  OneHotEncoder(handle_unknown=&#x27;ignore&#x27;))]),\n",
       "                                 [&#x27;gender&#x27;, &#x27;city&#x27;]),\n",
       "                                (&#x27;numerical&#x27;,\n",
       "                                 Pipeline(steps=[(&#x27;immutaton_mean&#x27;,\n",
       "                                                  SimpleImputer()),\n",
       "                                                 (&#x27;scaler&#x27;, StandardScaler())]),\n",
       "                                 [&#x27;age&#x27;, &#x27;height&#x27;])])</pre></div></div></div><div class=\"sk-parallel\"><div class=\"sk-parallel-item\"><div class=\"sk-item\"><div class=\"sk-label-container\"><div class=\"sk-label sk-toggleable\"><input class=\"sk-toggleable__control sk-hidden--visually\" id=\"16c0cef3-e3d8-463b-8d0b-f8f913b029ca\" type=\"checkbox\" ><label for=\"16c0cef3-e3d8-463b-8d0b-f8f913b029ca\" class=\"sk-toggleable__label sk-toggleable__label-arrow\">catigorical</label><div class=\"sk-toggleable__content\"><pre>[&#x27;gender&#x27;, &#x27;city&#x27;]</pre></div></div></div><div class=\"sk-serial\"><div class=\"sk-item\"><div class=\"sk-serial\"><div class=\"sk-item\"><div class=\"sk-estimator sk-toggleable\"><input class=\"sk-toggleable__control sk-hidden--visually\" id=\"f14e8962-2fb5-420c-8b39-c569f0646f76\" type=\"checkbox\" ><label for=\"f14e8962-2fb5-420c-8b39-c569f0646f76\" class=\"sk-toggleable__label sk-toggleable__label-arrow\">SimpleImputer</label><div class=\"sk-toggleable__content\"><pre>SimpleImputer()</pre></div></div></div><div class=\"sk-item\"><div class=\"sk-estimator sk-toggleable\"><input class=\"sk-toggleable__control sk-hidden--visually\" id=\"26a4e817-ff66-4a3e-8d3c-5304b711245a\" type=\"checkbox\" ><label for=\"26a4e817-ff66-4a3e-8d3c-5304b711245a\" class=\"sk-toggleable__label sk-toggleable__label-arrow\">OneHotEncoder</label><div class=\"sk-toggleable__content\"><pre>OneHotEncoder(handle_unknown=&#x27;ignore&#x27;)</pre></div></div></div></div></div></div></div></div><div class=\"sk-parallel-item\"><div class=\"sk-item\"><div class=\"sk-label-container\"><div class=\"sk-label sk-toggleable\"><input class=\"sk-toggleable__control sk-hidden--visually\" id=\"b4ff5837-ec65-47e8-ab03-355738ecbaed\" type=\"checkbox\" ><label for=\"b4ff5837-ec65-47e8-ab03-355738ecbaed\" class=\"sk-toggleable__label sk-toggleable__label-arrow\">numerical</label><div class=\"sk-toggleable__content\"><pre>[&#x27;age&#x27;, &#x27;height&#x27;]</pre></div></div></div><div class=\"sk-serial\"><div class=\"sk-item\"><div class=\"sk-serial\"><div class=\"sk-item\"><div class=\"sk-estimator sk-toggleable\"><input class=\"sk-toggleable__control sk-hidden--visually\" id=\"d79ee6a1-d9e6-4ab3-b965-9318d6b32162\" type=\"checkbox\" ><label for=\"d79ee6a1-d9e6-4ab3-b965-9318d6b32162\" class=\"sk-toggleable__label sk-toggleable__label-arrow\">SimpleImputer</label><div class=\"sk-toggleable__content\"><pre>SimpleImputer()</pre></div></div></div><div class=\"sk-item\"><div class=\"sk-estimator sk-toggleable\"><input class=\"sk-toggleable__control sk-hidden--visually\" id=\"75c2d9c6-f963-434c-8177-3f47d306da89\" type=\"checkbox\" ><label for=\"75c2d9c6-f963-434c-8177-3f47d306da89\" class=\"sk-toggleable__label sk-toggleable__label-arrow\">StandardScaler</label><div class=\"sk-toggleable__content\"><pre>StandardScaler()</pre></div></div></div></div></div></div></div></div></div></div><div class=\"sk-item\"><div class=\"sk-estimator sk-toggleable\"><input class=\"sk-toggleable__control sk-hidden--visually\" id=\"47ad1a62-9c91-41d5-bc54-c22a5dcd1e5d\" type=\"checkbox\" ><label for=\"47ad1a62-9c91-41d5-bc54-c22a5dcd1e5d\" class=\"sk-toggleable__label sk-toggleable__label-arrow\">LogisticRegression</label><div class=\"sk-toggleable__content\"><pre>LogisticRegression()</pre></div></div></div></div></div></div></div>"
      ],
      "text/plain": [
       "Pipeline(steps=[('columntransformer',\n",
       "                 ColumnTransformer(transformers=[('catigorical',\n",
       "                                                  Pipeline(steps=[('immutaton_mean',\n",
       "                                                                   SimpleImputer()),\n",
       "                                                                  ('one_hot',\n",
       "                                                                   OneHotEncoder(handle_unknown='ignore'))]),\n",
       "                                                  ['gender', 'city']),\n",
       "                                                 ('numerical',\n",
       "                                                  Pipeline(steps=[('immutaton_mean',\n",
       "                                                                   SimpleImputer()),\n",
       "                                                                  ('scaler',\n",
       "                                                                   StandardScaler())]),\n",
       "                                                  ['age', 'height'])])),\n",
       "                ('logisticregression', LogisticRegression())])"
      ]
     },
     "execution_count": 38,
     "metadata": {},
     "output_type": "execute_result"
    }
   ],
   "source": [
    "pipe"
   ]
  },
  {
   "cell_type": "code",
   "execution_count": null,
   "id": "6443df29",
   "metadata": {},
   "outputs": [],
   "source": []
  }
 ],
 "metadata": {
  "kernelspec": {
   "display_name": "Python 3 (ipykernel)",
   "language": "python",
   "name": "python3"
  },
  "language_info": {
   "codemirror_mode": {
    "name": "ipython",
    "version": 3
   },
   "file_extension": ".py",
   "mimetype": "text/x-python",
   "name": "python",
   "nbconvert_exporter": "python",
   "pygments_lexer": "ipython3",
   "version": "3.9.12"
  }
 },
 "nbformat": 4,
 "nbformat_minor": 5
}
